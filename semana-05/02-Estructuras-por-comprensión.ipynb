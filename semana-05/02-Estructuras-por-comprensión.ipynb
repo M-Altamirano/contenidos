{
 "cells": [
  {
   "cell_type": "markdown",
   "metadata": {},
   "source": [
    "<p>\n",
    "<font size='5' face='Georgia, Arial'>IIC-2233 Apunte Programación Avanzada</font><br>\n",
    "<font size='1'>&copy; 2015 Karim Pichara - Christian Pieringer. Todos los derechos reservados.</font>\n",
    "<br>\n",
    "<font size='1'> Modificado en 2018-1 por Equipo Docente IIC2233</font>\n",
    "</p>"
   ]
  },
  {
   "cell_type": "markdown",
   "metadata": {},
   "source": [
    "# Listas por Comprensión\n",
    "\n",
    "Desde el punto de vista de la lógica, la definición de comprensión es:  \"Conjunto de caracteres que forman un concepto\". Así mismo, las listas por comprensión se pueden ver como listas formadas por un conjunto de objetos que cumplen con un concepto o condición en particular.\n",
    "\n",
    "Por ejemplo, tenemos una lista de números guardados como `strings` y queremos construir una lista con los mismos números, pero guardados como `ints`. Una forma de hacerlo sería lo siguiente:"
   ]
  },
  {
   "cell_type": "code",
   "execution_count": 1,
   "metadata": {},
   "outputs": [
    {
     "name": "stdout",
     "output_type": "stream",
     "text": [
      "[1, 4, 55, 65, 4, 15, 90]\n"
     ]
    }
   ],
   "source": [
    "# lista por extensión\n",
    "lista = ['1', '4', '55', '65','4', '15', '90']\n",
    "\n",
    "int_lista = []\n",
    "\n",
    "for c in lista:\n",
    "    int_lista.append(int(c))\n",
    "    \n",
    "print(int_lista)"
   ]
  },
  {
   "cell_type": "markdown",
   "metadata": {},
   "source": [
    "Usando listas por comprensión, podemos hacer lo mismo de forma más clara y concisa:"
   ]
  },
  {
   "cell_type": "code",
   "execution_count": 2,
   "metadata": {},
   "outputs": [
    {
     "name": "stdout",
     "output_type": "stream",
     "text": [
      "[1, 4, 55, 65, 4, 15, 90]\n"
     ]
    }
   ],
   "source": [
    "# lista por extensión\n",
    "lista = ['1', '4', '55', '65','4', '15', '90']\n",
    "\n",
    "# lista por comprensión\n",
    "int_lista = [int(c) for c in lista]\n",
    "# por cada elemento c en lista, entonces int_lista contiene int(c)\n",
    "\n",
    "print(int_lista)"
   ]
  },
  {
   "cell_type": "markdown",
   "metadata": {},
   "source": [
    "La sentencia `if` se puede usar dentro de una lista por comprensión para construir la lista incluyendo solamente los elementos que cumplan una cierta condición.\n",
    "\n",
    "Por ejemplo, a continuación convertiremos a `int` e incluiremos en la nueva lista solamente los números que estén representados en un `string` con largo estrictamente mayor a uno."
   ]
  },
  {
   "cell_type": "code",
   "execution_count": 3,
   "metadata": {},
   "outputs": [
    {
     "name": "stdout",
     "output_type": "stream",
     "text": [
      "[55, 65, 15, 90]\n"
     ]
    }
   ],
   "source": [
    "# lista por comprensión\n",
    "int_lista_2d = [int(c) for c in lista if len(c) > 1]\n",
    "# por cada elemento c en lista, \n",
    "# si c tiene más de 1 dígito, entonces int_lista_2d contiene int(c)\n",
    "\n",
    "print(int_lista_2d)"
   ]
  },
  {
   "cell_type": "markdown",
   "metadata": {},
   "source": [
    "<h1>Sets y Diccionarios por comprensión</h1>\n",
    "\n",
    "  La misma idea la podemos aplicar a otras estructuras de datos, como sets y diccionarios:"
   ]
  },
  {
   "cell_type": "code",
   "execution_count": 4,
   "metadata": {},
   "outputs": [
    {
     "name": "stdout",
     "output_type": "stream",
     "text": [
      "{'Olivier Megaton', 'Clint Eastwood'}\n"
     ]
    }
   ],
   "source": [
    "from collections import namedtuple\n",
    "\n",
    "# namedtuple es una subclase de tuplas que tiene campos (con nombres arbitrarios), \n",
    "# pueden ser accesados como tupla.campo\n",
    "\n",
    "Pelicula = namedtuple(\"Pelicula\", [\"titulo\", \"director\", \"genero\"])\n",
    "peliculas = [Pelicula(\"Into the Woods\", \"Rob Marshall\", \"Adventure\"),\n",
    "             Pelicula(\"American Sniper\", \"Clint Eastwood\", \"Action\"),\n",
    "             Pelicula(\"Birdman\", \"Alejandro González Inárritu\", \"Comedy\"),\n",
    "             Pelicula(\"Boyhood\", \"Richard Linklater\", \"Drama\"), \n",
    "             Pelicula(\"Taken 3\", \"Olivier Megaton\", \"Action\"), \n",
    "             Pelicula(\"The Imitation Game\", \"Morten Tyldum\", \"Biography\"),\n",
    "             Pelicula(\"Gone Girl\", \"David Fincher\", \"Drama\")]\n",
    "\n",
    "# set por comprensión\n",
    "directores_accion = {p.director for p in peliculas if p.genero == 'Action'}  \n",
    "# por cada elemento p en películas,\n",
    "# si el genero de p es 'Action', entonces\n",
    "# el director de p pertenece a directores_accion\n",
    "\n",
    "print(directores_accion)\n"
   ]
  },
  {
   "cell_type": "markdown",
   "metadata": {},
   "source": [
    "<h3> Podemos crear diccionarios con los resultados de búsqueda:</h3>"
   ]
  },
  {
   "cell_type": "code",
   "execution_count": 5,
   "metadata": {},
   "outputs": [
    {
     "name": "stdout",
     "output_type": "stream",
     "text": [
      "{'Olivier Megaton': Pelicula(titulo='Taken 3', director='Olivier Megaton', genero='Action'), 'Clint Eastwood': Pelicula(titulo='American Sniper', director='Clint Eastwood', genero='Action')}\n"
     ]
    }
   ],
   "source": [
    "# diccionario por comprensión\n",
    "dict_directores_accion = {p.director: p for p in peliculas if p.genero == 'Action'}\n",
    "# por cada elemento p en películas,\n",
    "# si el genero de p es 'Action', entonces\n",
    "# el par \"key:value\" -> \"director de p: p\" pertenece a dict_directores_accion\n",
    "\n",
    "print(dict_directores_accion)"
   ]
  },
  {
   "cell_type": "code",
   "execution_count": 6,
   "metadata": {},
   "outputs": [
    {
     "data": {
      "text/plain": [
       "Pelicula(titulo='Taken 3', director='Olivier Megaton', genero='Action')"
      ]
     },
     "execution_count": 6,
     "metadata": {},
     "output_type": "execute_result"
    }
   ],
   "source": [
    "dict_directores_accion['Olivier Megaton']"
   ]
  },
  {
   "cell_type": "code",
   "execution_count": null,
   "metadata": {
    "collapsed": true
   },
   "outputs": [],
   "source": []
  }
 ],
 "metadata": {
  "kernelspec": {
   "display_name": "Python 3",
   "language": "python",
   "name": "python3"
  },
  "language_info": {
   "codemirror_mode": {
    "name": "ipython",
    "version": 3
   },
   "file_extension": ".py",
   "mimetype": "text/x-python",
   "name": "python",
   "nbconvert_exporter": "python",
   "pygments_lexer": "ipython3",
   "version": "3.5.2"
  }
 },
 "nbformat": 4,
 "nbformat_minor": 2
}
