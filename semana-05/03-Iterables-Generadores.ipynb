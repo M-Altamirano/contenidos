{
 "cells": [
  {
   "cell_type": "markdown",
   "metadata": {},
   "source": [
    "<p>\n",
    "<font size='5' face='Georgia, Arial'>IIC-2233 Apunte Programación Avanzada</font><br>\n",
    "<font size='1'> Creado en 2017-2 por Equipo Docente IIC2233, 2015 Karim Pichara - Christian Pieringer. Todos los derechos reservados.</font>\n",
    "</p>\n",
    "\n",
    "# ¿Cómo iterar sobre mis propias estructuras de datos? \n",
    "\n",
    "Hasta ahora hemos visto como implementar varios métodos de árboles, listas ligadas y grafos. Sin embargo, no hemos visto cómo recorrer estas estructuras utilizando `for`, como lo haríamos con una lista. Para esto hay que entender dos conceptos claves: iterable e iterador.\n",
    "\n",
    "Un **iterable** es cualquier objeto sobre el cual se puede iterar. Por lo mismo, cualquier iterable podría aparecer al lado derecho de un _for loop_ (`for i in iterable:`). Un iterable contiene el método **`__iter__()`**. Se puede iterar todas las veces que uno quiera sobre un iterable, como en el caso de las listas por ejemplo. No es necesario que este objeto se pueda indexar. Por ejemplo los `set`s no se indexan, pero si podemos iterar sobre ellos."
   ]
  },
  {
   "cell_type": "code",
   "execution_count": 1,
   "metadata": {},
   "outputs": [
    {
     "name": "stdout",
     "output_type": "stream",
     "text": [
      "1\n",
      "3\n",
      "4\n",
      "6\n"
     ]
    }
   ],
   "source": [
    "conjunto = {1, 3, 4, 6}\n",
    "\n",
    "for i in conjunto:\n",
    "    print(i)"
   ]
  },
  {
   "cell_type": "markdown",
   "metadata": {},
   "source": [
    "Un **iterador** es un objeto que itera sobre un iterable, y es el objeto retornado por el método `__iter__()`. Además, contiene el método `__next__()` que nos retorna el siguiente elemento (uno a la vez).\n",
    "\n",
    "Recuerden \n",
    "\n",
    "> Un iterable debe tener el método `__iter__` implementado, y debe retornar **siempre** un iterador. Por su parte, un iterador es un objeto que tiene el método `__next__` implementado, es decir puedo hacer `next(objeto)` y esto retornará un **valor**.\n",
    "\n",
    "Hay (al menos) dos formas de implementar estos métodos en sus clases. Por ahora solo les enseñaremos una. Cuando vemamos Programación Funcional les mostraremos la otra forma.\n",
    "\n",
    "### Datos\n",
    "Primero generaremos datos con los que vamos a trabajar."
   ]
  },
  {
   "cell_type": "code",
   "execution_count": 2,
   "metadata": {},
   "outputs": [
    {
     "name": "stdout",
     "output_type": "stream",
     "text": [
      "1 - 2 - 3 - 4 - 5 - end\n"
     ]
    }
   ],
   "source": [
    "class Nodo:\n",
    "    \n",
    "    def __init__(self, valor, siguiente):\n",
    "        self.valor = valor\n",
    "        self.siguiente = siguiente\n",
    "    \n",
    "    def __repr__(self):\n",
    "        return \"{} - {}\".format(self.valor, self.siguiente if self.siguiente else \"end\")\n",
    "\n",
    "\n",
    "datos = Nodo(1, Nodo(2, Nodo(3, Nodo(4, Nodo(5, None)))))\n",
    "print(datos)"
   ]
  },
  {
   "cell_type": "markdown",
   "metadata": {},
   "source": [
    "Primero debemos crear la clase `Iterable` que implementará el método `__iter__`. "
   ]
  },
  {
   "cell_type": "code",
   "execution_count": 3,
   "metadata": {},
   "outputs": [],
   "source": [
    "class Iterable:\n",
    "    \n",
    "    def __init__(self, objeto):\n",
    "        self.objeto = objeto\n",
    "    \n",
    "    def __iter__(self):\n",
    "        return Iterador(self.objeto)"
   ]
  },
  {
   "cell_type": "markdown",
   "metadata": {},
   "source": [
    "Ahora creamos la clase `Iterador` que será la encargada de iterar sobre el iterable. Ésta debe implementar el método `__next__` que retornará los valores.\n",
    "\n",
    "El método `__iter__` sólo debe retornar `self`. Es posible no implementarlo. En ese caso, deberán primero obtener el iterador del iterable (`iter(iterable)`) y luego podrán usar ese iterador en sus ciclos `for` y `while`. \n",
    "\n",
    "El iterador no se puede reiniciar."
   ]
  },
  {
   "cell_type": "code",
   "execution_count": 4,
   "metadata": {},
   "outputs": [],
   "source": [
    "class Iterador:\n",
    "    \n",
    "    def __init__(self, iterable):\n",
    "        self.iterable = iterable\n",
    "    \n",
    "    def __iter__(self): \n",
    "        return self\n",
    "    \n",
    "    def __next__(self):\n",
    "        if self.iterable is None:\n",
    "            raise StopIteration(\"Llegamos al final\")\n",
    "        else:           \n",
    "            to_return = self.iterable\n",
    "            self.iterable = self.iterable.siguiente\n",
    "            return to_return    "
   ]
  },
  {
   "cell_type": "code",
   "execution_count": 5,
   "metadata": {},
   "outputs": [
    {
     "name": "stdout",
     "output_type": "stream",
     "text": [
      "1 - 2 - 3 - 4 - 5 - end\n",
      "2 - 3 - 4 - 5 - end\n",
      "3 - 4 - 5 - end\n",
      "4 - 5 - end\n",
      "5 - end\n"
     ]
    }
   ],
   "source": [
    "iterable = Iterable(datos)\n",
    "for i in iterable:\n",
    "    print(i)"
   ]
  },
  {
   "cell_type": "markdown",
   "metadata": {},
   "source": [
    "Esto sería obligatorio si es que no implementan el método `__iter__` en el iterable:"
   ]
  },
  {
   "cell_type": "code",
   "execution_count": 6,
   "metadata": {},
   "outputs": [
    {
     "name": "stdout",
     "output_type": "stream",
     "text": [
      "1 - 2 - 3 - 4 - 5 - end\n",
      "2 - 3 - 4 - 5 - end\n",
      "3 - 4 - 5 - end\n",
      "4 - 5 - end\n",
      "5 - end\n"
     ]
    }
   ],
   "source": [
    "iterable = Iterable(datos)\n",
    "iterator = iter(iterable) # Obtener el iterador\n",
    "for i in iterator: # Iterar con el iterador\n",
    "    print(i)"
   ]
  },
  {
   "cell_type": "markdown",
   "metadata": {},
   "source": [
    "Si paramos la iteración:"
   ]
  },
  {
   "cell_type": "code",
   "execution_count": 7,
   "metadata": {},
   "outputs": [
    {
     "name": "stdout",
     "output_type": "stream",
     "text": [
      "1 - 2 - 3 - 4 - 5 - end\n",
      "2 - 3 - 4 - 5 - end\n",
      "3 - 4 - 5 - end\n"
     ]
    }
   ],
   "source": [
    "iterable = Iterable(datos)\n",
    "iterator = iter(iterable)\n",
    "for i in iterator:\n",
    "    print(i)\n",
    "    if i.valor >= 3:\n",
    "        break"
   ]
  },
  {
   "cell_type": "markdown",
   "metadata": {},
   "source": [
    "Podemos volver a empezar **obteniendo otro iterador**."
   ]
  },
  {
   "cell_type": "code",
   "execution_count": 8,
   "metadata": {},
   "outputs": [
    {
     "name": "stdout",
     "output_type": "stream",
     "text": [
      "1 - 2 - 3 - 4 - 5 - end\n",
      "2 - 3 - 4 - 5 - end\n",
      "3 - 4 - 5 - end\n",
      "4 - 5 - end\n",
      "5 - end\n"
     ]
    }
   ],
   "source": [
    "for i in iterable:\n",
    "    print(i)"
   ]
  },
  {
   "cell_type": "markdown",
   "metadata": {},
   "source": [
    "Cada iterador tiene su propia memoria que no depende del iterable"
   ]
  },
  {
   "cell_type": "code",
   "execution_count": 9,
   "metadata": {},
   "outputs": [
    {
     "name": "stdout",
     "output_type": "stream",
     "text": [
      "4 - 5 - end\n",
      "5 - end\n"
     ]
    }
   ],
   "source": [
    "for i in iterator:\n",
    "    print(i)"
   ]
  },
  {
   "cell_type": "code",
   "execution_count": 10,
   "metadata": {},
   "outputs": [],
   "source": [
    "for i in iterator: # Ya usamos este iterador para recorrer el iterable. No lo podemos utilizar de nuevo.\n",
    "    print(i)"
   ]
  },
  {
   "cell_type": "markdown",
   "metadata": {},
   "source": [
    "## Generadores\n",
    "\n",
    "Los generadores son un caso especial de los **iteradores** (en el material de la semana pasada). Los generadores nos permiten iterar sobre secuencias de datos sin la necesidad de almacenarlos en alguna estructura de datos, evitando el uso innecesario de memoria. \n",
    "\n",
    "Una vez que terminamos de iterar sobre un generador, el generador desaparece. Esto es muy útil cuando queremos realizar cálculos sobre secuencias de números que sólo nos sirven para ese cálculo en particular. La sintaxis para crear generadores es muy parecida a la comprensión de listas, sólo que en vez de paréntesis cuadrados [] usamos paréntesis normales ():"
   ]
  },
  {
   "cell_type": "code",
   "execution_count": 19,
   "metadata": {},
   "outputs": [],
   "source": [
    "from sys import getsizeof"
   ]
  },
  {
   "cell_type": "code",
   "execution_count": 20,
   "metadata": {},
   "outputs": [
    {
     "name": "stdout",
     "output_type": "stream",
     "text": [
      "tamaño del generador: 88\n",
      "tamaño de la lista: 192\n"
     ]
    }
   ],
   "source": [
    "generador_pares = (2*i for i in range(10))\n",
    "#por el sólo hecho de usar paréntesis \n",
    "#significa que estamos creando un generador\n",
    "print('tamaño del generador:', getsizeof(generador_pares))\n",
    "\n",
    "lista_pares = [2*i for i in range(10)]#c usa más memoria que a\n",
    "\n",
    "print('tamaño de la lista:', getsizeof(lista_pares))"
   ]
  },
  {
   "cell_type": "markdown",
   "metadata": {},
   "source": [
    "A continuación podemos observar que una vez que ya hemos iterado sobre el generador, no lo podemos volver a utilizar."
   ]
  },
  {
   "cell_type": "code",
   "execution_count": 21,
   "metadata": {},
   "outputs": [
    {
     "name": "stdout",
     "output_type": "stream",
     "text": [
      "valores del generador\n",
      "0\n",
      "2\n",
      "4\n",
      "6\n",
      "8\n",
      "10\n",
      "12\n",
      "14\n",
      "16\n",
      "18\n",
      "valores del generador\n"
     ]
    }
   ],
   "source": [
    "print('valores del generador')\n",
    "for i in generador_pares:\n",
    "    print(i)\n",
    "\n",
    "print('valores del generador')\n",
    "for i in generador_pares:\n",
    "    print(i)\n",
    "#como ya terminamos de iterar sobre a\n",
    "#la secuencia desaparece"
   ]
  },
  {
   "cell_type": "markdown",
   "metadata": {},
   "source": [
    "## Funciones Generadoras\n",
    "\n",
    "Las funciones en Python también tienen la posibilidad de funcionar como generadores, a través de `yield`. El statement `yield` reemplaza a `return`, por un lado se encarga de retornar el valor pero además nos asegura que en la próxima llamada a la función, ésta será ejecutada partiendo desde el punto donde quedó en la ejecución anterior. En otras palabras, trabajamos con una función que una vez que \"retorna\" un valor a través de `yield`, está transfierendo el control sólo en forma temporal, asumiendo que pronto será utilizada nuevamente para \"generar\" más valores. Al llamar a una función generadora se crea un objeto generador, sin embargo, esto no comienza a ejecutar la función. Ejemplo:"
   ]
  },
  {
   "cell_type": "code",
   "execution_count": 11,
   "metadata": {},
   "outputs": [],
   "source": [
    "def conteo_dec(n):\n",
    "    print(\"Contando en forma decreciente desde {}\".format(n))\n",
    "    while n > 0:\n",
    "        yield n\n",
    "        n -= 1"
   ]
  },
  {
   "cell_type": "markdown",
   "metadata": {},
   "source": [
    "La función se ejecuta una vez que llamamos a `next` del objeto generado por la función, que retorna un generador."
   ]
  },
  {
   "cell_type": "code",
   "execution_count": 13,
   "metadata": {},
   "outputs": [
    {
     "name": "stdout",
     "output_type": "stream",
     "text": [
      "<generator object conteo_dec at 0x10ea44d58>\n",
      "\n",
      "Contando en forma decreciente desde 5\n",
      "5\n",
      "4\n",
      "3\n",
      "2\n"
     ]
    }
   ],
   "source": [
    "x = conteo_dec(10)#notar que aquí no se imprime nada\n",
    "print(\"{}\\n\".format(x))#aquí sólo se imprime el objeto\n",
    "y = conteo_dec(5)\n",
    "print(next(y))\n",
    "print(next(y))\n",
    "print(next(y))\n",
    "print(next(y))\n",
    "#for i in conteo_dec(5):\n",
    "#    print(i)"
   ]
  },
  {
   "cell_type": "code",
   "execution_count": 14,
   "metadata": {},
   "outputs": [
    {
     "name": "stdout",
     "output_type": "stream",
     "text": [
      "1\n",
      "1\n",
      "2\n",
      "3\n",
      "5\n",
      "8\n",
      "[13, 21, 34, 55, 89, 144, 233, 377, 610, 987]\n",
      "1597\n",
      "2584\n",
      "4181\n",
      "6765\n",
      "10946\n",
      "17711\n",
      "28657\n",
      "46368\n",
      "75025\n",
      "121393\n"
     ]
    }
   ],
   "source": [
    "def fibonacci():\n",
    "    a,b = 0,1\n",
    "    while True:\n",
    "        yield b\n",
    "        a, b = b, a + b\n",
    "\n",
    "f = fibonacci()\n",
    "print(next(f))\n",
    "print(next(f))\n",
    "print(next(f))\n",
    "print(next(f))\n",
    "print(next(f))\n",
    "print(next(f))\n",
    "g1 = [next(f) for i in range(10)]\n",
    "print(g1)\n",
    "g2 = (next(f) for i in range(10))\n",
    "for a in g2: print(a)"
   ]
  },
  {
   "cell_type": "code",
   "execution_count": 15,
   "metadata": {},
   "outputs": [
    {
     "name": "stdout",
     "output_type": "stream",
     "text": [
      "10\n",
      "14\n",
      "14\n",
      "14\n",
      "14\n",
      "19\n",
      "33\n"
     ]
    }
   ],
   "source": [
    "import numpy as np\n",
    "def maximo(values):\n",
    "    temp_maxim = -np.infty\n",
    "    for v in values:\n",
    "        if v > temp_maxim:\n",
    "            temp_maxim = v\n",
    "        yield temp_maxim\n",
    "        \n",
    "elements = [10, 14, 7, 9, 12, 19, 33]\n",
    "res = maximo(elements)\n",
    "print(next(res))\n",
    "print(next(res))\n",
    "print(next(res))\n",
    "print(next(res))\n",
    "print(next(res))\n",
    "print(next(res))\n",
    "print(next(res))#aquí se acabó la lista"
   ]
  },
  {
   "cell_type": "markdown",
   "metadata": {},
   "source": [
    "### También podemos interactuar con la función enviando mensajes \n",
    "\n",
    "El método `send()` permite enviar un valor hacia el generador, lo que significa que la expresión `yield` lo recibirá. El valor enviado puede ser usado para asignarlo a otra variable, por ejemplo: `v = yield self.value`"
   ]
  },
  {
   "cell_type": "code",
   "execution_count": 16,
   "metadata": {},
   "outputs": [],
   "source": [
    "def mov_avg():\n",
    "    print(\"entrando...\")\n",
    "    total = float((yield))\n",
    "    cont = 1\n",
    "    print(\"total = {}\".format(total))\n",
    "    while True:\n",
    "        print(\"loop del while...\")\n",
    "        i = yield total / cont #aquí el i recibe el mensaje, además se está retornando total/count\n",
    "        cont += 1\n",
    "        total += i\n",
    "        print(\"i = {}\".format(i))\n",
    "        print(\"total = {}\".format(total))\n",
    "        print(\"cont = {}\".format(cont))"
   ]
  },
  {
   "cell_type": "markdown",
   "metadata": {},
   "source": [
    "Notar que el código debe ejecutar al menos hasta el primer `yield` para poder empezar a aceptar valores desde `send()`. Así siempre es necesario llamar a `next()` (o `send(None)`) una vez después de haber creado el generador para poder comenzar a enviarle datos."
   ]
  },
  {
   "cell_type": "code",
   "execution_count": 17,
   "metadata": {},
   "outputs": [
    {
     "name": "stdout",
     "output_type": "stream",
     "text": [
      "entrando al primer next\n",
      "entrando...\n",
      "saliendo del primer next\n",
      "total = 10.0\n",
      "loop del while...\n",
      "entrando al send de 5\n",
      "i = 5\n",
      "total = 15.0\n",
      "cont = 2\n",
      "loop del while...\n",
      "entrando al send de 0\n",
      "i = 0\n",
      "total = 15.0\n",
      "cont = 3\n",
      "loop del while...\n",
      "entrando al otro send de 0\n",
      "i = 0\n",
      "total = 15.0\n",
      "cont = 4\n",
      "loop del while...\n",
      "entrando al send de 20\n",
      "i = 20\n",
      "total = 35.0\n",
      "cont = 5\n",
      "loop del while...\n"
     ]
    },
    {
     "data": {
      "text/plain": [
       "7.0"
      ]
     },
     "execution_count": 17,
     "metadata": {},
     "output_type": "execute_result"
    }
   ],
   "source": [
    "m = mov_avg()\n",
    "print(\"entrando al primer next\")\n",
    "next(m)#avanzamos al primer yield\n",
    "print(\"saliendo del primer next\")\n",
    "m.send(10)\n",
    "print(\"entrando al send de 5\")\n",
    "m.send(5)\n",
    "print(\"entrando al send de 0\")\n",
    "m.send(0)\n",
    "print(\"entrando al otro send de 0\")\n",
    "m.send(0)\n",
    "print(\"entrando al send de 20\")\n",
    "m.send(20)"
   ]
  },
  {
   "cell_type": "code",
   "execution_count": 18,
   "metadata": {},
   "outputs": [
    {
     "name": "stdout",
     "output_type": "stream",
     "text": [
      "entrando...\n",
      "None\n",
      "total = 10.0\n",
      "loop del while...\n",
      "10.0\n",
      "i = 5\n",
      "total = 15.0\n",
      "cont = 2\n",
      "loop del while...\n",
      "7.5\n",
      "i = 0\n",
      "total = 15.0\n",
      "cont = 3\n",
      "loop del while...\n",
      "5.0\n",
      "i = 0\n",
      "total = 15.0\n",
      "cont = 4\n",
      "loop del while...\n",
      "3.75\n",
      "i = 20\n",
      "total = 35.0\n",
      "cont = 5\n",
      "loop del while...\n",
      "7.0\n"
     ]
    }
   ],
   "source": [
    "m = mov_avg()\n",
    "print(next(m))\n",
    "print(m.send(10))\n",
    "print(m.send(5))\n",
    "print(m.send(0))\n",
    "print(m.send(0))\n",
    "print(m.send(20))"
   ]
  }
 ],
 "metadata": {
  "kernelspec": {
   "display_name": "Python 3",
   "language": "python",
   "name": "python3"
  },
  "language_info": {
   "codemirror_mode": {
    "name": "ipython",
    "version": 3
   },
   "file_extension": ".py",
   "mimetype": "text/x-python",
   "name": "python",
   "nbconvert_exporter": "python",
   "pygments_lexer": "ipython3",
   "version": "3.6.5"
  }
 },
 "nbformat": 4,
 "nbformat_minor": 2
}
