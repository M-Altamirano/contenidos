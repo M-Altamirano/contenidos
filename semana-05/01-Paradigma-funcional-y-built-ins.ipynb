{
 "cells": [
  {
   "cell_type": "markdown",
   "metadata": {},
   "source": [
    "<p>\n",
    "<font size='5' face='Georgia, Arial'>IIC-2233 Apunte Programación Avanzada</font><br>\n",
    "<font size='1'>&copy; 2015 Karim Pichara - Christian Pieringer. Todos los derechos reservados.</font>\n",
    "</p>"
   ]
  },
  {
   "cell_type": "markdown",
   "metadata": {},
   "source": [
    "# Programación Funcional\n",
    "\n",
    "En este capítulo explicaremos los conceptos básicos de programación funcional y cómo este estilo de programación se lleva a cabo en Python.\n",
    "\n",
    "De acuerdo al lenguaje de programación que estemos utilizando, podemos enfrentar un problema usando las siguientes estrategias:\n",
    "\n",
    "- **Procedimental**: la solución se estructura como un programa lineal o una lista de instrucciones que dicen al computador qué se debe hacer con la entrada del programa.\n",
    "\n",
    "- **Declarativa**: el usuario escribe la especificación del problema a ser resuelto y el lenguaje determina la mejor forma de ejecutar los cálculos eficientemente. Un ejemplo son las consultas en SQL, donde el usuario describe que datos quiere recibir y el motor SQL decide cómo revisar las tablas y que acciones debe ejecutar primero para obtener los datos de forma eficiente.\n",
    "\n",
    "- **Orientada a Objetos**: los programas estarán orientados a modelar las funcionalidades a través de la interacción entre objetos por medio de sus datos y comportamientos que consultan o modifican sus datos.\n",
    "\n",
    "- **Programación Funcional**: la solución del problema se estructura como un conjunto de funciones. Estas funciones deben tomar entradas y generan salidas. Las funciones no tienen datos propios o estados internos que modifican la salida de la función.\n",
    "\n",
    "Python es un lenguaje multiparadigma, es decir, las soluciones pueden ser escritas de forma procedimental, orientada a objetos o funcional. Así, nuestros programas podrían ser escritos usando los diferentes enfoques de forma simultánea.\n",
    "\n",
    "En programación funcional, el valor de retorno de una función depende solamente de los parámetros que la función recibe. Si trabajamos con un paradigma estrictamente funcional, la función debe poder leer los elementos recibidos como parámetros para construir un valor de retorno, sin embargo, no debe poder modificar estos elementos."
   ]
  },
  {
   "cell_type": "markdown",
   "metadata": {},
   "source": [
    "<h1>Funciones en Python</h1>\n",
    "\n",
    "Existen muchas funciones que vienen implementadas en Python, principalmente con el propósito de simplificar y \n",
    "abstraer cálculos que pueden aplicar a objetos de clases distintas (_duck typing_). Pueden revisar todas ellas en la [documentación de funciones](https://docs.python.org/3/library/functions.html#sorted) de Python. Veamos algunos ejemplos:"
   ]
  },
  {
   "cell_type": "markdown",
   "metadata": {},
   "source": [
    "## `len`\n",
    "\n",
    "Retorna el número de elementos en algún tipo de contenedor (lista, diccionario, _set_, etc)"
   ]
  },
  {
   "cell_type": "code",
   "execution_count": 1,
   "metadata": {},
   "outputs": [
    {
     "name": "stdout",
     "output_type": "stream",
     "text": [
      "6\n",
      "2\n",
      "5\n"
     ]
    }
   ],
   "source": [
    "print(len([3,4,1,5,5,2]))\n",
    "print(len({'nombre': 'Juan', 'apellido': 'Martinez'}))\n",
    "print(len((4,6,2,5,6)))"
   ]
  },
  {
   "cell_type": "markdown",
   "metadata": {},
   "source": [
    "Esta función viene implementada como un método interno  `__len__` en la mayoría de las clases de Python:"
   ]
  },
  {
   "cell_type": "code",
   "execution_count": 2,
   "metadata": {},
   "outputs": [
    {
     "name": "stdout",
     "output_type": "stream",
     "text": [
      "6\n",
      "2\n"
     ]
    }
   ],
   "source": [
    "print([3,4,1,5,5,2].__len__())\n",
    "print({'nombre': 'Juan', 'apellido': 'Martinez'}.__len__())"
   ]
  },
  {
   "cell_type": "markdown",
   "metadata": {},
   "source": [
    "La función `len()` aplicada a un objeto en particular `MyObject` hace efectivamente un llamado a la función `MyObject.__len__()`.\n",
    "\n",
    "Podemos también hacer _overriding_ del método `__len__`. Supongamos que queremos implementar un tipo especial de lista cuyo método\n",
    "`__len__` retorna el largo de la lista sin considerar los elementos que se repiten:"
   ]
  },
  {
   "cell_type": "code",
   "execution_count": 3,
   "metadata": {},
   "outputs": [
    {
     "name": "stdout",
     "output_type": "stream",
     "text": [
      "7\n",
      "7\n",
      "7\n"
     ]
    }
   ],
   "source": [
    "from collections import defaultdict\n",
    "\n",
    "class MyList(list):\n",
    "    def __len__(self):\n",
    "        \n",
    "        # Cada vez que se llame con un key que no existe, se genera como default el valor 0, \n",
    "        # que sale de llamar a \"int\" sin argumentos (probar tipeando int() en la consola de Python).\n",
    "        \n",
    "        d = defaultdict(int)\n",
    "        for i in range(list.__len__(self)):  # aquí llamamos a la función len de la clase list\n",
    "            d.update({self[i] : d[self[i]] + 1})\n",
    "        \n",
    "        # aquí se llama al método len de d, que es un defaultdict\n",
    "        return len(d)  \n",
    "    \n",
    "L = MyList([1,2,3,4,5,6,6,7,7,7,7,2,2,3,3,1,1])\n",
    "print(len(L))\n",
    "\n",
    "\n",
    "# Otra forma de hacer lo mismo\n",
    "class MyList2(list):\n",
    "    \n",
    "    def __len__(self):\n",
    "        #cada vez que se llame con un key que no existe, se genera como default el valor 0, \n",
    "        # que sale de llamar a \"int\" sin argumentos (probar tipeando int() en la consola de Python).\n",
    "        d = defaultdict(int)\n",
    "        for i in self:  # aquí llamamos a la función len de la clase list\n",
    "            d.update({i : d[i] + 1})\n",
    "        return len(d)  # aquí se llama al método len de d, que es un defaultdict\n",
    "    \n",
    "L = MyList2([1,2,3,4,5,6,6,7,7,7,7,2,2,3,3,1,1])\n",
    "print(len(L))\n",
    "\n",
    "\n",
    "# Otra forma de hacer lo mismo\n",
    "class MyList3(list):\n",
    "    \n",
    "    def __len__(self):\n",
    "        d = set(self)\n",
    "        return len(d)  # aquí se llama al método len de d, que es un defaultdict\n",
    "    \n",
    "L = MyList3([1,2,3,4,5,6,6,7,7,7,7,2,2,3,3,1,1])\n",
    "print(len(L))\n"
   ]
  },
  {
   "cell_type": "markdown",
   "metadata": {},
   "source": [
    "## `__getitem__`\n",
    "\n",
    "Al definir esta función dentro de una clase, cada instancia de la clase pasa a ser un iterable."
   ]
  },
  {
   "cell_type": "code",
   "execution_count": 4,
   "metadata": {},
   "outputs": [
    {
     "name": "stdout",
     "output_type": "stream",
     "text": [
      "h\n",
      "h\n",
      "o\n",
      "l\n",
      "a\n",
      "_\n",
      "m\n",
      "u\n",
      "n\n",
      "d\n",
      "o\n",
      "h o l a\n",
      "['h', 'o', 'l', 'a', '_', 'm', 'u', 'n', 'd', 'o']\n",
      "('h', 'o', 'l', 'a', '_', 'm', 'u', 'n', 'd', 'o')\n"
     ]
    }
   ],
   "source": [
    "class MiClase:\n",
    "    \n",
    "    def __init__(self, palabra=None):\n",
    "        self.palabra = palabra\n",
    "        \n",
    "    def __getitem__(self, i):\n",
    "         return self.palabra[i]\n",
    "\n",
    "p = MiClase(\"hola_mundo\")\n",
    "print(p[0])\n",
    "\n",
    "[print(c) for c in p]\n",
    "\n",
    "(a,b,c,d) = p[0:4]\n",
    "print(a,b,c,d)\n",
    "print(list(p))\n",
    "print(tuple(p))"
   ]
  },
  {
   "cell_type": "markdown",
   "metadata": {},
   "source": [
    "## Reversed\n",
    "\n",
    "La función `reversed()` toma una sequencia cualquiera como input y retorna una copia de la secuencia en orden inverso. \n",
    "También podemos personalizar la función haciendo un _overriding_ de `__reversed__` en cada clase. Si no personalizamos\n",
    "el método `__reversed__`, simplemente se usará el _built-in_, que iterará usando `__getitem__` y `__len__` (itera `__len__` veces sobre el objeto usando `__getitem__`, hacia atrás)\n"
   ]
  },
  {
   "cell_type": "markdown",
   "metadata": {},
   "source": [
    "Por ejemplo, podemos definir un tipo especial de lista que hace _override_ de `__reversed__`. En este caso, intercambia la primera mitad con la segunda, en vez de invertir el orden de los elementos."
   ]
  },
  {
   "cell_type": "code",
   "execution_count": 6,
   "metadata": {},
   "outputs": [
    {
     "name": "stdout",
     "output_type": "stream",
     "text": [
      "\n",
      "list : 6, 5, 4, 3, 2, 1, \n",
      "MiReversa : 4, 5, 6, 1, 2, 3, "
     ]
    }
   ],
   "source": [
    "lista = [1,2,3,4,5,6]\n",
    "\n",
    "\n",
    "class MiReversa(list):\n",
    "    \n",
    "    def __init__(self, *args):\n",
    "        super().__init__(args)\n",
    "        \n",
    "    def __reversed__(self):\n",
    "        middle = self.__len__() // 2\n",
    "        return self[middle:] + self[:middle]\n",
    "    \n",
    "\n",
    "for seq in lista, MiReversa(*lista):\n",
    "    print(\"\\n{} : \".format(seq.__class__.__name__), end = \"\")\n",
    "    for item in reversed(seq):\n",
    "        print(item, end = \", \")\n",
    "    "
   ]
  },
  {
   "cell_type": "markdown",
   "metadata": {},
   "source": [
    "## `enumerate`\n",
    "\n",
    "`enumerate()` crea una lista de tuplas donde el primer objeto en cada tupla es el indice y el segundo es el item original:"
   ]
  },
  {
   "cell_type": "markdown",
   "metadata": {},
   "source": [
    "Por ejemplo, si queremos iterar sobre una lista, y necesitamos obtener tanto el índice como su valor, una forma poco _pythonic_ de hacer esto sería la siguiente:"
   ]
  },
  {
   "cell_type": "code",
   "execution_count": 7,
   "metadata": {},
   "outputs": [
    {
     "name": "stdout",
     "output_type": "stream",
     "text": [
      "0: a\n",
      "1: b\n",
      "2: c\n",
      "3: d\n"
     ]
    }
   ],
   "source": [
    "lista = [\"a\",\"b\",\"c\",\"d\"]\n",
    "\n",
    "for index in range(len(lista)):\n",
    "    element = lista[index]\n",
    "    print(\"{}: {}\".format(index,element))"
   ]
  },
  {
   "cell_type": "markdown",
   "metadata": {},
   "source": [
    "La función `enumerate` nos permite hacer exactamente mismo, pero de una forma más elegante y _pythonic_:"
   ]
  },
  {
   "cell_type": "code",
   "execution_count": 8,
   "metadata": {},
   "outputs": [
    {
     "name": "stdout",
     "output_type": "stream",
     "text": [
      "0: a\n",
      "1: b\n",
      "2: c\n",
      "3: d\n"
     ]
    }
   ],
   "source": [
    "for index, element in enumerate(lista):\n",
    "    print(\"{}: {}\".format(index, element))"
   ]
  },
  {
   "cell_type": "markdown",
   "metadata": {},
   "source": [
    "## `zip`\n",
    "\n",
    "Toma dos o más secuencias o iterables y genera una lista de tuplas, donde el elemento i-ésimo contiene la tupla formada de los elementos i-ésimos de cada una de las secuencias o iterables. El largo de la lista retornada es igual al menor de los largos de las secuencias o iterables."
   ]
  },
  {
   "cell_type": "code",
   "execution_count": 9,
   "metadata": {},
   "outputs": [
    {
     "name": "stdout",
     "output_type": "stream",
     "text": [
      "Nombre: Juan Perez, email: jp1@hotmail.com\n",
      "Nombre: Gonzalo Aldunate, email: gan@gmail.com\n",
      "Nombre: Alberto Gomez, email: agomez@yahoo.com\n",
      "[('nombre', 'Juan', 'Gonzalo', 'Alberto'), ('apellido', 'Perez', 'Aldunate', 'Gomez'), ('email', 'jp1@hotmail.com', 'gan@gmail.com', 'agomez@yahoo.com')]\n"
     ]
    }
   ],
   "source": [
    "variables = ['nombre', 'apellido', 'email']\n",
    "p1 = [\"Juan\", 'Perez', 'jp1@hotmail.com']\n",
    "p2 = [\"Gonzalo\", 'Aldunate', 'gan@gmail.com']\n",
    "p3 = [\"Alberto\", 'Gomez', 'agomez@yahoo.com']\n",
    "\n",
    "contactos = []\n",
    "for p in p1, p2, p3:\n",
    "    contacto = zip(variables, p)\n",
    "    contactos.append(dict(contacto))\n",
    "\n",
    "for c in contactos:\n",
    "    #  El doble asterisco es para pasar el diccionario c como \"keyworded\" argumentos\n",
    "    # es equivalente a .format(nombre = c[\"nombre\"], apellido = c[\"apellido\"], email = c[\"email\"]\n",
    "    print(\"Nombre: {nombre} {apellido}, email: {email}\".format(**c))\n",
    "    \n",
    "    \n",
    "print(list(zip(variables, p1, p2, p3)))"
   ]
  },
  {
   "cell_type": "markdown",
   "metadata": {},
   "source": [
    "### La función `zip()` también es la inversa de sí misma"
   ]
  },
  {
   "cell_type": "code",
   "execution_count": 10,
   "metadata": {},
   "outputs": [
    {
     "name": "stdout",
     "output_type": "stream",
     "text": [
      "[(1, 'a'), (2, 'b'), (3, 'c'), (4, 'd')]\n",
      "[(1, 2, 3, 4), ('a', 'b', 'c', 'd')]\n"
     ]
    }
   ],
   "source": [
    "A = [1, 2, 3, 4]\n",
    "B = ['a', 'b', 'c', 'd']\n",
    "\n",
    "zipped = zip(A, B)\n",
    "zipped = list(zipped)\n",
    "print(zipped)\n",
    "\n",
    "unzipped = zip(*zipped)\n",
    "unzipped = list(unzipped)\n",
    "print(unzipped)\n"
   ]
  }
 ],
 "metadata": {
  "kernelspec": {
   "display_name": "Python 3",
   "language": "python",
   "name": "python3"
  },
  "language_info": {
   "codemirror_mode": {
    "name": "ipython",
    "version": 3
   },
   "file_extension": ".py",
   "mimetype": "text/x-python",
   "name": "python",
   "nbconvert_exporter": "python",
   "pygments_lexer": "ipython3",
   "version": "3.6.5"
  }
 },
 "nbformat": 4,
 "nbformat_minor": 2
}
