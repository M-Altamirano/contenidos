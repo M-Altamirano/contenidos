{
 "cells": [
  {
   "cell_type": "markdown",
   "metadata": {},
   "source": [
    "<p>\n",
    "<font size='5' face='Georgia, Arial'>IIC-2233 Apunte Programación Avanzada</font><br>\n",
    "<font size='1'> Equipo Docente IIC2233 2018-1.</font>\n",
    "</p>"
   ]
  },
  {
   "cell_type": "markdown",
   "metadata": {},
   "source": [
    "## Diseño de *software*: _Front-end_ y _Back-end_"
   ]
  },
  {
   "cell_type": "markdown",
   "metadata": {},
   "source": [
    "En ingeniería de software existen los conceptos de _**front-end**_ y _**back-end**_ para referirse a la separación que existen entre la capa de presentación y la capa de acceso a los datos. En el caso de interfaces gráficas, el *front-end* está relacionado a la interfaz misma con la cual el usuario interactúa, y el *back-end* se refiere a la lógica detrás de ella. \n",
    "\n",
    "Esta separación se alinea con el principio de siempre buscar **alta cohesión y bajo acomplamiento** en el diseño de nuestro software.\n",
    "\n",
    "- **Cohesión**: Cada una de las componentes del software debe realizar *solo* las tareas para las cuales fue creada, delegando otras tareas a otras componentes según corresponda. Por ejemplo: Una clase solo debe hacer las tareas para las cuales esta fue diseñada, no tiene que ejecutar funciones que le corresponden a otra clase.\n",
    "- **Acoplamiento**: Cuando la modificación de una componente implica que es necesario modificar otra componente para que la implementación del cambio sea correcta y completa. Por ejemplo: Si al modificar los atributos de una clase hay que modificar los atributos de otra clase, hay acoplamiento.\n",
    "\n",
    "De ahí que siempre debemos de buscar una **ALTA COHESIÓN y BAJO ACOPLAMIENTO**. \n",
    "\n",
    "En el caso de la separación del _**front-end**_ y _**back-end**_, algunas ventajas son las siguientes:\n",
    "\n",
    "1. **Modularidad**: Permite cambiar cualquiera de las dos partes sin afectar la otra (bajo acoplamiento). En particular permite editar el _front-end_, asumiendo que las funciones utilizadas del back-end mantienen su comportamiento. Al mismo tiempo, es posible modularizar cada vez más en _back-end_. Podemos reescribir el código para hacerlo cada vez más eficiente y específico (alta cohesión). Podemos incluso modularizar el _back-end_ en muchos archivos distintos y luego consultar todas las funcionalidades desde un solo archivo de conexión con el front-end (alta cohesión).\n",
    "1. **Uso de recursos**: Algunas veces el _front-end_ está corriendo en un computador distinto al _back-end_. Si el _back-end_ ejecuta cálculos muy costosos, no nos gustaría cargarle este tiempo computacional a la interfaz gráfica. Un ejemplo claro de esto son los navegadores de internet (*browsers*), donde todas la mayoría de las cosas que queremos ejecutar corren en un servidor _back-end_ y solo el resultado se muestra gráficamente al usuario. De este modo, nuestro computador no tiene que sobrecargarse procesando cosas.\n",
    "1. **Escalamiento**: Por un lado, permite agrandar en software sin mucha interferencia a las funcionalidades antiguas. Por otro lado, permite distribuir el procesamiento del _back-end_ en múltiples servidores.\n",
    "1. **Experticia**: Quienes desarrollan el _front-end_ en general tienen una expertiz muy distinta a la que tienen quienes desarrollan el _back-end_. Mantenerlos separados permite tener lo mejor de ambas partes.\n",
    "1. **Mantención**: Puedes testear parte por parte tu pieza de software, evitando que el alto acoplamiento de funcionalidades intervenga en la corrección de errores.\n",
    "1. **Evolución del *software* / versionamiento**: Si quieres cambiar completamente una de las partes puedes hacerlo sin problema, mientras las funciones utilizadas en el _front-end_ sigan teniendo los mismos nombres que antes. De esta manera, por ejemplo, si programas un _back-end_ para PyQt5 y luego quieres usarlo para PyQt6, puedes hacerlo sin problemas (alta cohesión). O mejor aún, exportar tus funcionalidades para un _back-end_ web.\n",
    "\n",
    "Estas ventajas anteriores pueden transformarse en costos si es que hay que tener dos equipos distintos de desarrollo o hay que mantener dos _software_ distintos. Sin embargo, las ventajas siguen siendo mayores.\n",
    "\n",
    "Más adelante en el curso veremos cómo este patrón de diseño permite conectarnos con otro microservicios a través de la web, donde podemos desarrollar una interfaz en PyQt y usar un _back-end_ en la nube."
   ]
  },
  {
   "cell_type": "markdown",
   "metadata": {},
   "source": [
    "#### Ejemplo\n",
    "El siguiente ejemplo muestra una modificación de uno de los ejemplos anteriores considerando desacoplar la interfaz de la lógica:"
   ]
  },
  {
   "cell_type": "code",
   "execution_count": null,
   "metadata": {},
   "outputs": [],
   "source": [
    "import sys\n",
    "\n",
    "from PyQt5 import uic\n",
    "from PyQt5.QtWidgets import (QApplication, QMessageBox)\n",
    "\n",
    "from backend import cuociente  # Importamos el back-end\n",
    "\n",
    "window_name, base_class = uic.loadUiType(\"qt-designer-mainwindow.ui\")\n",
    "\n",
    "\n",
    "class MainWindow(window_name, base_class):\n",
    "    def __init__(self):\n",
    "        super().__init__()\n",
    "        self.setupUi(self)\n",
    "        # Creamos las conexiones con los puertos.\n",
    "        self.pushButton1.clicked.connect(self.click_button)\n",
    "\n",
    "    def click_button(self):\n",
    "        \"\"\"\n",
    "        Este método controla la acción ejecuta cada vez que presionamos el\n",
    "        botón1.\n",
    "        \"\"\"\n",
    "        try:\n",
    "            # Cuociente pertenece al backend. En este caso, cualquier cambio en\n",
    "            # el cómo calcular cuociente no significará un cambio en el\n",
    "            # front-end.\n",
    "            resultado = cuociente(self.lineEdit1.text(), self.lineEdit2.text())\n",
    "            self.label_3.setText('= {}'.format(resultado))\n",
    "        except ValueError as err:\n",
    "            QMessageBox.warning(self, '', str(err))\n",
    "\n",
    "\n",
    "if __name__ == '__main__':\n",
    "    app = QApplication([])\n",
    "    form = MainWindow()\n",
    "    form.show()\n",
    "    sys.exit(app.exec_())\n"
   ]
  },
  {
   "cell_type": "markdown",
   "metadata": {},
   "source": [
    "En el _back-end_ deberíamos tener:"
   ]
  },
  {
   "cell_type": "code",
   "execution_count": null,
   "metadata": {},
   "outputs": [],
   "source": [
    "# backend.py\n",
    "\n",
    "def cuociente(valor1, valor2):\n",
    "    return float(valor1) / float(valor2)"
   ]
  }
 ],
 "metadata": {
  "kernelspec": {
   "display_name": "Python 3",
   "language": "python",
   "name": "python3"
  },
  "language_info": {
   "codemirror_mode": {
    "name": "ipython",
    "version": 3
   },
   "file_extension": ".py",
   "mimetype": "text/x-python",
   "name": "python",
   "nbconvert_exporter": "python",
   "pygments_lexer": "ipython3",
   "version": "3.6.5"
  }
 },
 "nbformat": 4,
 "nbformat_minor": 2
}
