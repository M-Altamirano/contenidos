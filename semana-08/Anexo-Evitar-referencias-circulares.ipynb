{
 "cells": [
  {
   "cell_type": "markdown",
   "metadata": {},
   "source": [
    "## Anexo: ¿Qué hacemos con las referencias circulares?\n",
    "\n",
    "Basado en la respuesta de [@indonoso](https://github.com/IIC2233-2016-1/syllabus/issues/481#issuecomment-221145469) a una pregunta sobre este tema."
   ]
  },
  {
   "cell_type": "markdown",
   "metadata": {},
   "source": [
    " "
   ]
  },
  {
   "cell_type": "markdown",
   "metadata": {},
   "source": [
    "Antes de discutir qué hacer con las referencias circulares, definamos a qué nos estamos refiriendo.\n",
    "\n",
    "Entenderemos como **referencias circulares** cuando dos clases tienen una relación de composición/agregación mutua. Es decir, una clase contiene a la otra y viceversa.\n",
    "\n",
    "En el caso típico de modelos circulares tenemos una clase que _organiza o es dueña_ de los otros objetos, y estos objetos necesitan conocer el estado de la organización para poder realizar acciones.\n",
    "\n",
    "La solución típica (y errónea) es la siguiente:"
   ]
  },
  {
   "cell_type": "code",
   "execution_count": 1,
   "metadata": {},
   "outputs": [],
   "source": [
    "class Organizador:\n",
    "    def __init__(self, num_elementos):\n",
    "        self.listo = True\n",
    "        self.elementos = [Elemento(self) for _ in range(num_elementos)]\n",
    "\n",
    "class Elemento:\n",
    "    def __init__(self, organizador):\n",
    "        self.organizador = organizador\n",
    "\n",
    "    def realizar_accion(self):\n",
    "        if self.organizador.listo:\n",
    "            print(\"Me puedo mover!!! :D\")\n",
    "        else:\n",
    "            print(\"Mi jefe dice que no me puedo mover :'(\")"
   ]
  },
  {
   "cell_type": "markdown",
   "metadata": {},
   "source": [
    "En el código anterior, `Organizador` contiene instancias de `Elemento`, pero a la vez, cada `Elemento` contiene la instancia de su `Organizador`. La modelación es circular porque un `Elemento` puede acceder a todos los atributos de `Organizador` y modificarlos si quisiera. En la vida real esta situación casi no ocurre, por ejemplo:\n",
    "\n",
    "- Los alumnos pueden hacer preguntas en el _syllabus_ de GitHub, pero no pueden modificar las actividades.\n",
    "- Los clientes pueden saber cuántos productos hay en vitrina de un supermercado, pero no conocen sus facturas, ni su sistema de logística\n",
    "\n",
    "Por esto es que esta modelación **no se aproxima a la realidad**. Distintos lenguajes de programación ofrecen herramientas para lograr una modelación más precisa (Por ejemplo, C# tiene las interfaces en conjunto con modificadores de acceso [[1]](https://blogs.msdn.microsoft.com/nickmalik/2005/03/18/how-to-get-rid-of-circular-references-in-c/)).\n",
    "\n",
    "Para modelar esto en Python se usa el hecho de que las funciones son objetos, y que por lo tanto, podemos definirlas dentro de otras funciones, pasarlas como parámetro o retornarlas. El siguiente código es una forma de arreglar el código de arriba."
   ]
  },
  {
   "cell_type": "code",
   "execution_count": 2,
   "metadata": {},
   "outputs": [],
   "source": [
    "class Organizador:\n",
    "    def __init__(self, num_elementos):\n",
    "        self.listo = True\n",
    "        self.elementos = [Elemento(self.esta_listo) for _ in range(num_elementos)]\n",
    "\n",
    "    def esta_listo(self):\n",
    "        return self.listo\n",
    "\n",
    "class Elemento:\n",
    "    def __init__(self, puedo_realizar_accion):\n",
    "        self.puedo_realizar_accion = puedo_realizar_accion\n",
    "\n",
    "    def realizar_accion(self):\n",
    "        if self.puedo_realizar_accion():\n",
    "            print(\"Me puedo mover!!! :D\")\n",
    "        else:\n",
    "            print(\"Mi jefe dice que no me puedo mover :'(\")"
   ]
  },
  {
   "cell_type": "markdown",
   "metadata": {},
   "source": [
    "Aquí pasamos **el método** `self.esta_listo`  que retorna el valor del atributo listo de `Organizador`. Luego `Elemento` usa esta función misma función guardada en la variable `puedo_realizar_accion` para \"hacerle una pregunta\" a `Organizador`.\n",
    "\n",
    "Hemos aprendido que la forma de evitar estas dependencias circulares es pasando funciones en vez de la instancia completa. Sin embargo, cuando el método a entregar tenga parámetros que sólo la clase que lo define debería _setear_, necesitaremos **construir** un método con esos parámetros ya configurados. Por ejemplo, si `esta_listo` dependiera de un secreto que sólo el `Organizador` conoce, lo haríamos de esta manera:"
   ]
  },
  {
   "cell_type": "code",
   "execution_count": 3,
   "metadata": {},
   "outputs": [],
   "source": [
    "class Organizador:\n",
    "    def __init__(self, num_elementos):\n",
    "        self.listo = True\n",
    "        self.elementos = [Elemento(self.esta_listo(i)) for i in range(num_elementos)]\n",
    "\n",
    "    def esta_listo(self, secreto):\n",
    "        def _esta_listo():\n",
    "            # Devuelve True si está listo y el elemento que pregunta\n",
    "            # Está ubicado en una posición impar de la lista (secreto... shh!!)\n",
    "            return self.listo and secreto % 2\n",
    "        return _esta_listo\n",
    "\n",
    "class Elemento:\n",
    "    def __init__(self, puedo_realizar_accion):\n",
    "        self.puedo_realizar_accion = puedo_realizar_accion\n",
    "\n",
    "    def realizar_accion(self):\n",
    "        if self.puedo_realizar_accion():\n",
    "            print(\"Me puedo mover!!! :D\")\n",
    "        else:\n",
    "            print(\"Mi jefe dice que no me puedo mover :'(\")"
   ]
  }
 ],
 "metadata": {
  "kernelspec": {
   "display_name": "Python 3",
   "language": "python",
   "name": "python3"
  },
  "language_info": {
   "codemirror_mode": {
    "name": "ipython",
    "version": 3
   },
   "file_extension": ".py",
   "mimetype": "text/x-python",
   "name": "python",
   "nbconvert_exporter": "python",
   "pygments_lexer": "ipython3",
   "version": "3.6.5"
  }
 },
 "nbformat": 4,
 "nbformat_minor": 2
}
