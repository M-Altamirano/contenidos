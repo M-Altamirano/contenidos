{
 "cells": [
  {
   "cell_type": "markdown",
   "metadata": {},
   "source": [
    "<p>\n",
    "<font size='5' face='Georgia, Arial'>IIC-2233 Apunte Programación Avanzada</font><br>\n",
    "<font size='1'>&copy; 2015 Karim Pichara - Christian Pieringer. Todos los derechos reservados, excepto en las imágenes provenientes de Wikipedia. Editado por Equipo Docente IIC2233 2018-1.</font>\n",
    "</p>"
   ]
  },
  {
   "cell_type": "markdown",
   "metadata": {},
   "source": [
    "## Simulación: Introducción"
   ]
  },
  {
   "cell_type": "markdown",
   "metadata": {},
   "source": [
    "Durante el modelamiento de objetos hacemos supuestos del sistema respecto de las relaciones entre objetos y datos, y usamos algoritmos para representar su comportamiento. En general, estos modelos son una aproximación, con un cierto nivel de fidelidad, de los sistemas reales. Si bien existen sistemas simples, como el de aceleración de gravedad, que pueden ser fácilmente modelados mediante una solución analítica, los sistemas reales incluyen comportamientos más complejos difíciles de representar usando solo un modelo analítico. En estos casos el funcionamiento del sistema debe ser estimado por simulación.\n",
    "\n",
    "La **simulación** consiste en el proceso mediante el cual se **modela** un sistema y se realizan **experimentos** sobre el modelo diseñado. El objetivo principal es comprender el comportamiento del sistema o evaluar el funcionamiento del modelo. Dentro de las principales ventajas de la simulación se encuentran: la reducción de costos y riesgos, como también una experimentación más rápida comparado con el uso de sistemas reales. En este curso, nos focalizaremos en el de **Simulación de Eventos Discretos** (**DES**) debido a las ventajas que ofrece."
   ]
  },
  {
   "cell_type": "markdown",
   "metadata": {},
   "source": [
    "El resultado final de la simulación consiste en un conjunto de estadísticas que resumen y cuantifican el funcionamiento y aspectos de interés en el sistema modelado. Por ejemplo, el tiempo de espera promedio en una cola de un cajero automático en alguna sucursal bancaria. La replicación de la simulación en distintas ejecuciones permite la elaboración de intervalos de confianza que sustentan la calidad de los resultados.\n",
    "\n",
    "Uno de los componentes necesarios para la simulación es el **tiempo**, de los cuales existen dos tipos:\n",
    "\n",
    "- tiempo de **simulación**: corresponde a un reloj virtual que cuantifica el tiempo de ejecución en el mundo de la simulación;\n",
    "- tiempo de **ejecución**: tiene relación con el tiempo de cpu consumido por la simulación\n",
    "\n",
    "Para obtener resultados en tiempos razonables, necesitamos que el tiempo de ejecución sea lo más breve posible. Sin embargo, en términos de resultados y organización de los experimentos, tiene mayor relevancia el tiempo de simulación.\n",
    "\n",
    "\n",
    "### Distribuciones de probabilidad\n",
    "\n",
    "Para efectos de la simulación, la ocurrencia de los eventos es modelada usando distribuciones de probabilidad, con el objetivo de imitar la realidad. Una distribución de probabilidad es una función que asigna a cada evento una probabilidad de ocurrencia. Nosotros trabajamos principalmente con números, por lo que una distribución asigna una probabilidad de que cierto número \"aparezca\".\n",
    "\n",
    "Vale la pena señalar que **para este curso no es necesario saber cómo determinar qué distribución de probabilidad modela de mejor forma un proceso**. Si fuese necesario usar distribuciones, se señalará explícitamente cuál usar y con qué parámetros.\n",
    "\n",
    "A continuación, mostraremos algunas distribuciones y cómo se pueden usar en Python para que lo tengas como referencia si fuese necesario usarlas.\n",
    "\n",
    "#### Distribución uniforme\n",
    "\n",
    "Es muy probable que ya estés familiarizado con la **distribución uniforme**, aunque no la conozcas por ese nombre. En esta distribución, todos los números – del intervalo a trabajar – se pueden obtener con la misma probabilidad. En pocas palabras, es el _random_ de toda la vida. En Python, podemos obtener números con esta distribución usando la librería `random`."
   ]
  },
  {
   "cell_type": "code",
   "execution_count": 1,
   "metadata": {},
   "outputs": [
    {
     "name": "stdout",
     "output_type": "stream",
     "text": [
      "0.5034711297833797 6.684468165394678 12\n"
     ]
    }
   ],
   "source": [
    "from random import random, uniform, randint\n",
    "\n",
    "# Obtenemos un float con distribución uniforme entre 0 y 1 (sin incluir el 1)\n",
    "uniforme_cero_uno = random()\n",
    "\n",
    "# Obtenemos un float con distribución uniforme entre a y b, incluyendo ambos\n",
    "a, b = 5, 10\n",
    "uniforme_intervalo = uniform(a, b)\n",
    "\n",
    "# Obtenemos un int con distribución uniforme entre a y b, incluyendo ambos\n",
    "a, b = 10, 20\n",
    "uniforme_entero = randint(a, b)\n",
    "\n",
    "print(uniforme_cero_uno, uniforme_intervalo, uniforme_entero)"
   ]
  },
  {
   "cell_type": "markdown",
   "metadata": {},
   "source": [
    "#### Distribución normal\n",
    "\n",
    "En la realidad no todo se puede modelar con distribución uniforme. Por ejemplo, es razonable pensar que la gran mayoría de los adultos tiene una estatura dentro de cierto rango, y unos pocos son muy altos o muy bajos. Eso es un ejemplo de una distribución **no uniforme**, pues los valores no se presentan con igual probabilidad.\n",
    "\n",
    "En el caso concreto de la estatura, se suele modelar con una **distribución normal**. Esta distribución necesita dos parámetros $(\\mu, \\sigma)$, donde $\\mu$ es el promedio que se espera, y $\\sigma$ mide cuán dispersos están los datos. La mayoría de los números que generamos con esta distribución estarán cerca de la media, como se puede ver en el gráfico de abajo:\n",
    "\n",
    "![](https://upload.wikimedia.org/wikipedia/commons/thumb/7/74/Normal_Distribution_PDF.svg/720px-Normal_Distribution_PDF.svg.png)\n",
    "\n",
    "Otro aspecto importante sobre esta distribución es que puede entregar cualquier `float`, por lo que a veces se \"corta\" la distribución estableciendo un mínimo y/o máximo. Por ejemplo, para la estatura no es razonable colocar estaturas negativas, y tampoco estaturas mayores a 3 metros (el _record_ es de 2.72 metros).\n",
    "\n",
    "En Python, podemos obtener números con distribución normal usando la función `normalvariate`."
   ]
  },
  {
   "cell_type": "code",
   "execution_count": 8,
   "metadata": {},
   "outputs": [
    {
     "name": "stdout",
     "output_type": "stream",
     "text": [
      "-0.5997155719151182\n",
      "159.68593357643616\n"
     ]
    }
   ],
   "source": [
    "from random import normalvariate\n",
    "\n",
    "# Valores de mu, sigma\n",
    "mu, sigma = 0, 1\n",
    "valor = normalvariate(mu, sigma)\n",
    "print(valor)\n",
    "\n",
    "mu, sigma = 170, 8\n",
    "# Acá queremos obtener estaturas\n",
    "# En este caso, \"truncamos\" la distribución haciendo que no nos de nada\n",
    "# mayor a 300 cm ni nada menor a 0 cm.\n",
    "estatura = min(max(normalvariate(mu, sigma), 0), 300)\n",
    "print(estatura)"
   ]
  },
  {
   "cell_type": "markdown",
   "metadata": {},
   "source": [
    "#### Distribución exponencial\n",
    "\n",
    "Otra cosa que no tiene distribución uniforme es el tiempo en que tarda en llegar el próximo cliente a un local, o el tiempo que demora en llegar el próximo auto a una bencinera. Se ha estudiado que este tipo de procesos se puede modelar con una **distribución exponencial**. \n",
    "\n",
    "Esta distribución necesita un parámetro $\\lambda$, que es la tasa promedio de ocurrencia de un evento. Por ejemplo, si se espera que en promedio un cliente llegue cada 20 minutos a una cola, la tasa es $\\frac{1}{20}$. Por otro lado, si se espera que dos autos lleguen cada minuto, la tasa es $2$. Mientras $\\lambda$ es más grande, es más probable que salgan números cercanos a cero, como se puede ver en la imagen:\n",
    "\n",
    "![By Skbkekas - Own work, CC BY 3.0, https://commons.wikimedia.org/w/index.php?curid=9508311](https://upload.wikimedia.org/wikipedia/commons/thumb/e/ec/Exponential_pdf.svg/360px-Exponential_pdf.svg.png)\n",
    "\n",
    "\n",
    "Es importante destacar que esta distribución puede generar **cualquier número mayor o igual a cero**. Sólo se asegura que, si generamos suficientes números, obtendremos algo casi igual a la tasa que esperábamos.\n",
    "\n",
    "En Python, podemos obtener números con distribución exponencial usando la función `expovariate`."
   ]
  },
  {
   "cell_type": "code",
   "execution_count": 6,
   "metadata": {},
   "outputs": [
    {
     "name": "stdout",
     "output_type": "stream",
     "text": [
      "Próximo cliente llega en 15.883616756917457 minutos\n",
      "Próximo auto llega en 1.2433077592629864 minutos\n"
     ]
    }
   ],
   "source": [
    "from random import expovariate\n",
    "\n",
    "# Un cliente llega cada 20 minutos\n",
    "tasa_llegada_clientes = 1 / 20\n",
    "tiempo_llegada_próximo_cliente = expovariate(tasa_llegada_clientes)\n",
    "\n",
    "# Dos autos llegan cada minuto\n",
    "tasa_llegada_autos = 2\n",
    "tiempo_llegada_próximo_auto = expovariate(tasa_llegada_autos)\n",
    "\n",
    "print(\"Próximo cliente llega en {} minutos\".format(tiempo_llegada_próximo_cliente))\n",
    "print(\"Próximo auto llega en {} minutos\".format(tiempo_llegada_próximo_auto))"
   ]
  },
  {
   "cell_type": "markdown",
   "metadata": {},
   "source": [
    "## Simulación Síncrona"
   ]
  },
  {
   "cell_type": "markdown",
   "metadata": {},
   "source": [
    "Es uno de los modos de simulación más sencillos. En este caso, el tiempo total de simulación es dividido en pequeños intervalos. En cada intervalo, el programa verifica todas las actividades involucradas en el sistema modelado.\n",
    "\n",
    "El algoritmo general de este tipo de simulación es:\n",
    "\n",
    "    MIENTRAS el tiempo simulación no termine\n",
    "        aumentar tiempo en una unidad\n",
    "        si ocurren eventos en este intervalo de tiempo:\n",
    "            simular los eventos\n",
    "            \n",
    "\n",
    "Por ejemplo, consideremos el caso de modelar un taller de revisión técnica. En una revisión técnica, llegan vehículos (o clientes) cada cierto tiempo aleatorio, los que se colocan en una cola de espera. Además, atender cada vehículo toma otro tiempo aleatorio. Veamos como modelar esto con una simulación síncrona."
   ]
  },
  {
   "cell_type": "code",
   "execution_count": 33,
   "metadata": {
    "scrolled": false
   },
   "outputs": [
    {
     "name": "stdout",
     "output_type": "stream",
     "text": [
      "[COLA] llega auto en tiempo de simulación t=5 min. Hay 1 vehículos en cola\n",
      "[PLANTA] Atendiendo auto, demorará 5 min\n",
      "[PLANTA] termina revisión de auto\n",
      "[COLA] llega moto en tiempo de simulación t=20 min. Hay 1 vehículos en cola\n",
      "[PLANTA] Atendiendo moto, demorará 1 min\n",
      "[PLANTA] termina revisión de moto\n",
      "[COLA] llega moto en tiempo de simulación t=33 min. Hay 1 vehículos en cola\n",
      "[PLANTA] Atendiendo moto, demorará 13 min\n",
      "[COLA] llega camioneta en tiempo de simulación t=35 min. Hay 1 vehículos en cola\n",
      "[PLANTA] termina revisión de moto\n",
      "[PLANTA] Atendiendo camioneta, demorará 11 min\n",
      "[COLA] llega camioneta en tiempo de simulación t=52 min. Hay 1 vehículos en cola\n",
      "[COLA] llega moto en tiempo de simulación t=54 min. Hay 2 vehículos en cola\n",
      "[PLANTA] termina revisión de camioneta\n",
      "[PLANTA] Atendiendo camioneta, demorará 22 min\n",
      "[COLA] llega auto en tiempo de simulación t=59 min. Hay 2 vehículos en cola\n",
      "[COLA] llega moto en tiempo de simulación t=67 min. Hay 3 vehículos en cola\n",
      "[COLA] llega moto en tiempo de simulación t=73 min. Hay 4 vehículos en cola\n",
      "[PLANTA] termina revisión de camioneta\n",
      "[PLANTA] Atendiendo moto, demorará 2 min\n",
      "\n",
      "Estadísticas:\n",
      "Tiempo promedio de atención   9.00 min.\n",
      "Tiempo total de atención  54.00 min\n",
      "Total de vehículos atendidos: 6\n"
     ]
    }
   ],
   "source": [
    "from collections import deque\n",
    "from random import choice, randrange, random\n",
    "from statistics import mean\n",
    "\n",
    "\n",
    "class Vehículo:\n",
    "    \"\"\" Esta clase modela los vehículos que llegan al taller.\"\"\"\n",
    "    def __init__(self, vehículos):\n",
    "        # Cuando se crea un nuevo vehículo se escoge uniformemente el tipo de vehículo\n",
    "        self.tipo = choice(list(vehículos))\n",
    "        # Seleccionamos el tiempo que demorará atender a este vehículo.\n",
    "        # Esperamos que como mínimo sea 1 minuto.\n",
    "        self.tiempo_revisión = max(1, round(expovariate(vehículos[self.tipo])))\n",
    "        \n",
    "    def __repr__(self):\n",
    "        return self.tipo\n",
    "\n",
    "        \n",
    "class Taller:\n",
    "    \"\"\" Esta clase modela la línea de revisión en el taller.\"\"\"\n",
    "    def __init__(self):\n",
    "        self.tarea_actual = None\n",
    "        self.tiempo_revisión_restante = 0\n",
    "\n",
    "    @property\n",
    "    def ocupado(self):\n",
    "        return self.tarea_actual is not None\n",
    "\n",
    "    def atender(self, vehículo):\n",
    "        self.tarea_actual = vehículo\n",
    "        self.tiempo_revisión_restante = vehículo.tiempo_revisión\n",
    "        print('[PLANTA] Atendiendo {0}, demorará {1} min'.format(\n",
    "              self.tarea_actual, self.tiempo_revisión_restante))\n",
    "        \n",
    "    def tick(self):\n",
    "        if self.tarea_actual is not None:\n",
    "            self.tiempo_revisión_restante -= 1\n",
    "            if self.tiempo_revisión_restante <= 0:\n",
    "                print('[PLANTA] termina revisión de {}'.format(self.tarea_actual))\n",
    "                self.tarea_actual = None\n",
    "                \n",
    "                \n",
    "class SimulaciónSíncrona:\n",
    "    \n",
    "    STR_TEMPLATE = ('[COLA] llega {} en tiempo de simulación t={} min. '\n",
    "                    'Hay {} vehículos en cola')\n",
    "    \n",
    "    def __init__(self, max_tiempo, vehículos):\n",
    "        self.max_tiempo = max_tiempo\n",
    "        self.vehículos = vehículos\n",
    "        \n",
    "        self.planta = Taller()\n",
    "        self.cola_revisión = deque()\n",
    "        self.tiempos_revisión = []\n",
    "\n",
    "    @property\n",
    "    def llega_nuevo_auto(self):\n",
    "        \"\"\"\n",
    "        Esta funcion modela si llega o no un auto nuevo a la cola. \n",
    "        Se muestrea de una distribución de probabilidad uniforme. El método retorna\n",
    "        True si el valor entregado por la función random es mayor a un valor dado.\n",
    "        En este caso, es sencillo ver que retornará True un 20% de las veces.\n",
    "        \"\"\"\n",
    "        return random() <= 0.2\n",
    "    \n",
    "    def imprimir_estadísticas(self):\n",
    "        tiempo_promedio = mean(self.tiempos_revisión)\n",
    "        tiempo_total = sum(self.tiempos_revisión)\n",
    "\n",
    "        print()\n",
    "        print('Estadísticas:')\n",
    "        print('Tiempo promedio de atención {:6.2f} min.'.format(tiempo_promedio))\n",
    "        print('Tiempo total de atención {:6.2f} min'.format(tiempo_total))\n",
    "        print('Total de vehículos atendidos: {}'.format(len(self.tiempos_revisión)))\n",
    "        \n",
    "\n",
    "    def revisión_técnica(self):\n",
    "        \"\"\"Esta función maneja el proceso o servicio de revisión en el taller.\"\"\"\n",
    "\n",
    "        # Hacemos avanzar el reloj de la simulación minuto por minuto.\n",
    "        # No importa si en ese minuto no pasa nada.\n",
    "        for minuto in range(self.max_tiempo):\n",
    "\n",
    "            if self.llega_nuevo_auto:\n",
    "                vehículo = Vehículo(self.vehículos)\n",
    "                self.cola_revisión.append(vehículo)\n",
    "                print(self.STR_TEMPLATE.format(vehículo, minuto, len(self.cola_revisión)))\n",
    "\n",
    "            if self.cola_revisión and not self.planta.ocupado:\n",
    "                # Si hay vehículos esperando y la planta no está ocupada\n",
    "                # Atendemos un vehículo, sacándolo de la cola\n",
    "                vehículo = self.cola_revisión.popleft()\n",
    "                self.tiempos_revisión.append(vehículo.tiempo_revisión)\n",
    "                self.planta.atender(vehículo)\n",
    "\n",
    "            # Avisamos a la planta que ha transcurrido 1 minuto\n",
    "            self.planta.tick()\n",
    "\n",
    "        # Ya terminamos la simulación, imprimamos las estadísticas\n",
    "        self.imprimir_estadísticas()\n",
    "\n",
    "\n",
    "    \n",
    "if __name__ == '__main__':\n",
    "    # Define los tipos de vehículos y su tiempo de atención promedio\n",
    "    vehículos = {'moto': 1 / 8, 'auto': 1 / 15, 'camioneta': 1 / 20} \n",
    "    max_tiempo = 80\n",
    "    \n",
    "    simulación = SimulaciónSíncrona(max_tiempo, vehículos)\n",
    "    simulación.revisión_técnica()"
   ]
  },
  {
   "cell_type": "markdown",
   "metadata": {},
   "source": [
    "Considerando que, en general, las simulaciones requieren de mucho tiempo para ejecutarse y producir resultados, la simulación síncrona presenta las siguientes desventajas:\n",
    "\n",
    "- La ejecución es muy lenta, debido a que hay que verificar muchas condiciones para **cada** momento de la simulación, incluso, si sabemos que ahí no ocurrirá nada. Debido a lo anterior, presenta un alto consumo de tiempo de CPU.\n",
    "- Además, los incrementos de tiempo son fijos. En nuestro ejemplo, no es posible que un auto llegue a los 15 minutos y 20 segundos del tiempo de simulación. Para eso, tendríamos que correr la simulación segundo a segundo, agravando el problema de eficiencia."
   ]
  },
  {
   "cell_type": "markdown",
   "metadata": {},
   "source": [
    "## Simulación basada en Eventos Discretos (DES)"
   ]
  },
  {
   "cell_type": "markdown",
   "metadata": {},
   "source": [
    "En este paradigma de DES, existe una secuencia discreta de eventos distribuidas en el tiempo, en donde cada evento ocurre en un instante **t** determinado, y genera un cambio en el estado del sistema. A difrerencia de la simulación sincrónica, en DES se asume que entre eventos consecutivos no existen cambios del sistema. Esto permite saltar directamente entre eventos próximos y no depender del tiempo de simulación para transitar entre todos ellos. Para el funcionamiento de esta simulación, se incorpora un conjunto de eventos que representa a todos los eventos pendientes. En cada iteración se genera y agrega un nuevo evento al conjunto de eventos, que se representa generalmente usando una cola.\n",
    "\n",
    "El algoritmo general de una simulación basada en eventos discretos es el siguiente:\n",
    "\n",
    "    MIENTRAS la lista de eventos no esté vacía y el tiempo de simulación no termine:\n",
    "        tomar un evento desde el principio de la lista de eventos\n",
    "        avanzar el tiempo de simulación al tiempo del evento\n",
    "        simular el evento"
   ]
  },
  {
   "cell_type": "markdown",
   "metadata": {},
   "source": [
    "### Componentes de un Modelo DES\n",
    "\n",
    "Un modelo de simulación se compone de los siguientes elementos:\n",
    "\n",
    "1. Un conjunto de variables de estado que permiten describir el estado del sistema simulado\n",
    "1. Una subrutina de inicialización de variables\n",
    "1. Un reloj que lleva registro del tiempo de simulación\n",
    "1. Un conjunto de eventos que generan secuencias de actividades que originan el estado del sistema\n",
    "1. Un arreglo para regir la posición de cada evento y el tiempo en el cual ocurrirá el siguiente evento\n",
    "1. Una subrutina para cada evento, que actualiza el estado del sistema cuando ocurre un evento de este tipo\n",
    "1. Un programa principal que controla la ocurrencia de los eventos y que transfiere el control a la subrutina del evento correspondiente\n",
    "1. Indicadores para calcular estadísticas del sistema\n"
   ]
  },
  {
   "cell_type": "markdown",
   "metadata": {},
   "source": [
    "Ahora veamos el mismo ejemplo anterior para la planta de revisión técnica desde el punto de vista de simulación de eventos discretos. La figura siguiente explica el problema gráficamente.\n",
    "![Ejemplo de diagrama de flujo.](./imgs/diagrama_flujo_ejemplo.png)"
   ]
  },
  {
   "cell_type": "markdown",
   "metadata": {},
   "source": [
    "En el próximo _notebook_, veremos una forma de implementar una DES en Python con el mismo ejemplo de la revisión técnica."
   ]
  }
 ],
 "metadata": {
  "kernelspec": {
   "display_name": "Python 3",
   "language": "python",
   "name": "python3"
  },
  "language_info": {
   "codemirror_mode": {
    "name": "ipython",
    "version": 3
   },
   "file_extension": ".py",
   "mimetype": "text/x-python",
   "name": "python",
   "nbconvert_exporter": "python",
   "pygments_lexer": "ipython3",
   "version": "3.6.5"
  }
 },
 "nbformat": 4,
 "nbformat_minor": 1
}
