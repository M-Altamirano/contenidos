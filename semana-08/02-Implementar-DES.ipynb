{
 "cells": [
  {
   "cell_type": "markdown",
   "metadata": {},
   "source": [
    "## Implementación de una simulación DES"
   ]
  },
  {
   "cell_type": "markdown",
   "metadata": {},
   "source": [
    "En este _notebook_ nos enfocaremos en revisar una **posible** manera de implementar una simulación basada en eventos discretos.\n",
    "\n",
    "### Eventos\n",
    "\n",
    "Partamos por definir (programáticamente) lo que es un evento. Consideremos que:\n",
    "\n",
    "- Un evento tiene un tiempo de ocurrencia\n",
    "- Queremos que ocurra algo en ese momento\n",
    "- Nos gustaría poder identificar un evento por un identificador único\n",
    "\n",
    "Con eso, podemos construir un a clase `Evento` que tenga cada uno de esos atributos:\n",
    "\n",
    "- `id`: nos ayudará a identificar un evento en forma única\n",
    "- `tiempo`: indicará el momento en que el evento debe ejecutarse\n",
    "- `función`: contendrá lo que queramos que se ejecute en ese evento\n",
    "\n",
    "Además, nos gustaría poder ordenar los eventos según su `tiempo`, y poder comparar el evento con un `int` o `float` para saber si un evento ocurre antes de cierto instante. Para ello, implementaremos [`__lt__`](https://docs.python.org/3/reference/datamodel.html#object.__lt__) (_less than_)."
   ]
  },
  {
   "cell_type": "code",
   "execution_count": 1,
   "metadata": {},
   "outputs": [],
   "source": [
    "from itertools import count\n",
    "\n",
    "class Evento:\n",
    "    ids = count(start=0)\n",
    "    \n",
    "    def __init__(self, tiempo, función):\n",
    "        self.id = next(self.ids)\n",
    "        self.tiempo = tiempo\n",
    "        self.función = función\n",
    "        \n",
    "    def __repr__(self):\n",
    "        template = \"Evento id={}, tiempo={}\"\n",
    "        return template.format(self.id, self.tiempo)\n",
    "    \n",
    "    def __lt__(self, other):\n",
    "        if isinstance(other, Evento):\n",
    "            return self.tiempo < other.tiempo\n",
    "        return self.tiempo < other"
   ]
  },
  {
   "cell_type": "markdown",
   "metadata": {},
   "source": [
    "### Flujo general de una simulación\n",
    "\n",
    "Ahora que tenemos eventos, intentemos construir el flujo principal de una simulación con una clase `Simulación`. Recordemos que una simulación debe tener:\n",
    "\n",
    "- Un tiempo de inicio\n",
    "- Un tiempo en que la simulación debe finalizar\n",
    "- Una lista de eventos a ejecutar, ordenada por el tiempo de ocurrencia"
   ]
  },
  {
   "cell_type": "code",
   "execution_count": 2,
   "metadata": {},
   "outputs": [],
   "source": [
    "import math\n",
    "\n",
    "class Simulación:\n",
    "    \n",
    "    def __init__(self, tiempo_inicio=0, tiempo_fin=math.inf):\n",
    "        self.tiempo_simulación = tiempo_inicio\n",
    "        self.tiempo_fin = tiempo_fin\n",
    "        self.eventos = []\n",
    "        \n",
    "    def agregar_evento(self, evento):\n",
    "        \"\"\"Función para agregar un evento a la cola.\"\"\"\n",
    "        self.eventos.append(evento)"
   ]
  },
  {
   "cell_type": "markdown",
   "metadata": {},
   "source": [
    "Tenemos todos nuestros atributos básicos, pero nos falta un detalle: la lista de eventos debe mantenerse ordenada. No es materia de este curso saber cómo hacer esto de la forma más eficiente, por lo que sólo nos aseguraremos que, cada vez que se acceda a esta lista, se ordene por el tiempo de los eventos. Haremos esto vía _properties_."
   ]
  },
  {
   "cell_type": "code",
   "execution_count": 3,
   "metadata": {},
   "outputs": [],
   "source": [
    "class Simulación:\n",
    "    \n",
    "    def __init__(self, tiempo_inicio=0, tiempo_fin=math.inf):\n",
    "        self.tiempo_simulación = tiempo_inicio\n",
    "        self.tiempo_fin = tiempo_fin\n",
    "        self._eventos = []\n",
    "    \n",
    "    @property\n",
    "    def eventos(self):\n",
    "        \"\"\"Entrega la cola de eventos, ordenada por tiempo.\"\"\"\n",
    "        self._eventos.sort()\n",
    "        return self._eventos\n",
    "\n",
    "    def agregar_evento(self, evento):\n",
    "        \"\"\"Función para agregar un evento a la cola.\"\"\"\n",
    "        self.eventos.append(evento)"
   ]
  },
  {
   "cell_type": "markdown",
   "metadata": {},
   "source": [
    "Ahora, nos falta el flujo principal. Recordemos que el algoritmo general de una simulación DES es el siguiente:\n",
    "\n",
    "    MIENTRAS la lista de eventos no esté vacía y el tiempo de simulación no termine:\n",
    "        tomar un evento desde el principio de la lista de eventos\n",
    "        avanzar el tiempo de simulación al tiempo del evento\n",
    "        simular el evento\n",
    "        \n",
    "Implementaremos este algoritmo en una función llamada `run` de nuestra clase `Simulación`:"
   ]
  },
  {
   "cell_type": "code",
   "execution_count": 4,
   "metadata": {},
   "outputs": [],
   "source": [
    "class Simulación:\n",
    "    \n",
    "    def __init__(self, tiempo_inicio=0, tiempo_fin=math.inf):\n",
    "        self.tiempo_simulación = tiempo_inicio\n",
    "        self.tiempo_fin = tiempo_fin\n",
    "        self._eventos = []\n",
    "    \n",
    "    @property\n",
    "    def eventos(self):\n",
    "        \"\"\"Entrega la cola de eventos, ordenada por tiempo.\"\"\"\n",
    "        self._eventos.sort()\n",
    "        return self._eventos\n",
    "\n",
    "    def agregar_evento(self, evento):\n",
    "        \"\"\"Función para agregar un evento a la cola.\"\"\"\n",
    "        self.eventos.append(evento)\n",
    "    \n",
    "    def run(self):\n",
    "        \"\"\"Ejecuta la simulación.\"\"\"\n",
    "        # Revisamos que haya un evento, y que este evento esté dentro del límite de tiempo\n",
    "        while self.eventos and self.eventos[0] < self.tiempo_fin:\n",
    "            # Sacamos el primer evento de la lista\n",
    "            evento = self.eventos.pop(0)\n",
    "            # Avanzamos el tiempo de simulación al tiempo del evento\n",
    "            self.tiempo_simulación = evento.tiempo\n",
    "            # Simulamos el evento\n",
    "            evento.función()"
   ]
  },
  {
   "cell_type": "markdown",
   "metadata": {},
   "source": [
    "#### Impresión de estadísticas de la simulación\n",
    "\n",
    "Cuando simulamos un proceso, nos interesa obtener estadísticas de lo que realmente ocurrió. Además, nos gustaría saber lo que está pasando en cada momento.\n",
    "\n",
    "Para ello, podemos implementar un método `print` para imprimir en pantalla que lo puedan ocupar todos los objetos de la simulación. Esto, con el fin de centralizar el formato con el que se imprime. Estas modificaciones dejan nuestra simulación de la siguiente manera:"
   ]
  },
  {
   "cell_type": "code",
   "execution_count": 5,
   "metadata": {},
   "outputs": [],
   "source": [
    "class Simulación:\n",
    "    \n",
    "    def __init__(self, tiempo_inicio=0, tiempo_fin=math.inf):\n",
    "        self.tiempo_simulación = tiempo_inicio\n",
    "        self.tiempo_fin = tiempo_fin\n",
    "        self._eventos = []\n",
    "    \n",
    "    @property\n",
    "    def eventos(self):\n",
    "        \"\"\"Entrega la cola de eventos, ordenada por tiempo.\"\"\"\n",
    "        self._eventos.sort()\n",
    "        return self._eventos\n",
    "\n",
    "    def agregar_evento(self, evento):\n",
    "        \"\"\"Función para agregar un evento a la cola.\"\"\"\n",
    "        self.eventos.append(evento)\n",
    "        \n",
    "    def run(self):\n",
    "        \"\"\"Ejecuta la simulación.\"\"\"\n",
    "        # Revisamos que haya un evento, y que este evento esté dentro del límite de tiempo\n",
    "        while self.eventos and self.eventos[0] < self.tiempo_fin:\n",
    "            # Sacamos el primer evento de la lista\n",
    "            evento = self.eventos.pop(0)\n",
    "            # Avanzamos el tiempo de simulación al tiempo del evento\n",
    "            self.tiempo_simulación = evento.tiempo\n",
    "            # [Opcional] imprimir qué sucede\n",
    "            self.print('simulación', 'Extraído: {}'.format(evento))\n",
    "            # Simulamos el evento\n",
    "            evento.función()\n",
    "        self.print('simulación', 'Simulación terminada')\n",
    "            \n",
    "    def print(self, contexto, *args, **kwargs):\n",
    "        \"\"\"Imprime durante la simulación.\"\"\"\n",
    "        template = \"[TIEMPO: {:.02f} - CONTEXTO: {}]\"\n",
    "        print(template.format(self.tiempo_simulación, contexto.upper()), *args, **kwargs)"
   ]
  },
  {
   "cell_type": "markdown",
   "metadata": {},
   "source": [
    "### Objetos de la simulación\n",
    "\n",
    "Los objetos de nuestra simulación, deberían cumplir:\n",
    "- Recibir una instancia de la simulación.\n",
    "- Que se realicen ajustes iniciales. Esto puede incluir cualquier configuración, pero también agregar eventos iniciales. Es bueno recordar que la simulación debe comenzar con eventos **ya programados**.\n",
    "\n",
    "Abajo podemos ver cómo se vería – en general – una clase de nuestro modelo de simulación."
   ]
  },
  {
   "cell_type": "code",
   "execution_count": 6,
   "metadata": {},
   "outputs": [],
   "source": [
    "class ObjetoSimulación:\n",
    "    \n",
    "    def __init__(self, simulación, *args, **kwargs):\n",
    "        self.simulación = simulación\n",
    "        # Hacer lo que tengamos que hacer\n",
    "        self.configurar()\n",
    "        \n",
    "    def configurar(self):\n",
    "        \"\"\"Método de configuración inicial\"\"\"\n",
    "        # Agregar eventos iniciales a la simulación (si es que aplica)\n",
    "        evento = Evento(15, lambda: self.simulación.print(\"Objeto\", \"Hola mundo!\"))\n",
    "        self.simulación.agregar_evento(evento)\n",
    "        \n",
    "    def recibir_cosas(self, cosa):\n",
    "        \"\"\"\n",
    "        Recibe una cosa para hacer algo con ella.\n",
    "        \"\"\"\n",
    "        # Acá deberíamos procesar qué hacer con esta cosa que recibimos\n",
    "        # Esto podría derivar, incluso, en programar un evento.\n",
    "        pass\n",
    "    \n",
    "    def imprimir_estadísticas(self):\n",
    "        \"\"\"Imprime estadísticas finales\"\"\"\n",
    "        print(\"En realidad, no hice nada :/\")\n",
    "    \n",
    "    def hacer_otra_cosa(self):\n",
    "        \"\"\"Esto es otro método del objeto\"\"\"\n",
    "        # Podemos hacer otra cosa acá\n",
    "        pass"
   ]
  },
  {
   "cell_type": "markdown",
   "metadata": {},
   "source": [
    "Y como unimos todos los componentes:"
   ]
  },
  {
   "cell_type": "code",
   "execution_count": 7,
   "metadata": {},
   "outputs": [
    {
     "name": "stdout",
     "output_type": "stream",
     "text": [
      "[TIEMPO: 15.00 - CONTEXTO: SIMULACIÓN] Extraído: Evento id=0, tiempo=15\n",
      "[TIEMPO: 15.00 - CONTEXTO: OBJETO] Hola mundo!\n",
      "[TIEMPO: 15.00 - CONTEXTO: SIMULACIÓN] Simulación terminada\n"
     ]
    }
   ],
   "source": [
    "simulación = Simulación(tiempo_fin=500)\n",
    "objeto = ObjetoSimulación(simulación)\n",
    "\n",
    "simulación.run()"
   ]
  },
  {
   "cell_type": "markdown",
   "metadata": {},
   "source": [
    "## Ejemplo de revisión técnica\n",
    "\n",
    "¡Muy bien! Al parecer tenemos todo lo necesario para volver a programar nuestra revisión técnica, pero ahora con eventos discretos. Partamos con la clase `Taller`."
   ]
  },
  {
   "cell_type": "code",
   "execution_count": 8,
   "metadata": {},
   "outputs": [],
   "source": [
    "from collections import deque\n",
    "from statistics import mean\n",
    "\n",
    "class Taller:\n",
    "    \"\"\"Esta clase modela el taller de revisión técnica.\"\"\"\n",
    "    \n",
    "    def __init__(self, simulación):\n",
    "        self.simulación = simulación\n",
    "        self.cola = deque()\n",
    "        self.tiempos_atención = []\n",
    "        self.tiempos_espera = []\n",
    "        self.vehículo_actual = None\n",
    "        self.configurar()\n",
    "        \n",
    "    def configurar(self):\n",
    "        pass\n",
    "\n",
    "    @property\n",
    "    def ocupado(self):\n",
    "        return self.vehículo_actual is not None\n",
    "    \n",
    "    def imprimir_estadísticas(self):\n",
    "        print(\"-\" * 80)\n",
    "        print(\"Estadísticas Taller\")\n",
    "        print(\"-\" * 80)\n",
    "        print(\"Vehículos atendidos: {}\".format(len(self.tiempos_atención)))\n",
    "        print(\"Promedio tiempo de atención: {}\".format(mean(self.tiempos_atención)))\n",
    "        print(\"Promedio tiempo de espera: {}\".format(mean(self.tiempos_espera)))\n",
    "        print(\"Vehículos todavía en cola: {}\".format(len(self.cola)))\n",
    "    \n",
    "    def encolar_vehículo(self, vehículo):\n",
    "        \"\"\"Acción que ingresa un vehículo a la cola del taller.\"\"\"\n",
    "        self.cola.append(vehículo)\n",
    "        # Imprimimos lo que sucede\n",
    "        self.simulación.print(\"taller\", \"{} entró a la cola\".format(vehículo))\n",
    "        # Si no estamos atendiendo a ningún vehículo, atendemos a este de inmediato\n",
    "        if not self.ocupado:\n",
    "            self.atender_siguiente_vehículo()\n",
    "            \n",
    "\n",
    "    def atender_siguiente_vehículo(self):\n",
    "        \"\"\"Función para atender al siguiente vehículo de la cola.\"\"\"\n",
    "        # Seteamos el vehículo que estamos atendiendo ahora\n",
    "        self.vehículo_actual = self.cola.popleft()\n",
    "        \n",
    "        # Agregamos el tiempo que el vehículo tuvo que esperar para ser atendido\n",
    "        self.tiempos_espera.append(self.simulación.tiempo_simulación - \\\n",
    "                                   self.vehículo_actual.tiempo_creación)\n",
    "        # Agregamos el tiempo que el vehículo se demorará en ser revisado\n",
    "        self.tiempos_atención.append(self.vehículo_actual.tiempo_atención)\n",
    "        \n",
    "        # Calculamos cuando estará listo el vehículo\n",
    "        tiempo_fin_atención = self.simulación.tiempo_simulación + \\\n",
    "                              self.vehículo_actual.tiempo_atención\n",
    "        # Creamos el evento de fin de atención, donde ejecutamos terminar_vehículo\n",
    "        evento = Evento(tiempo_fin_atención, self.terminar_vehículo)\n",
    "        # Agregamos el evento a la simulación\n",
    "        self.simulación.agregar_evento(evento)\n",
    "        \n",
    "        # Imprimimos lo que sucede\n",
    "        self.simulación.print(\"taller\", \"{} está siendo atendido\".format(self.vehículo_actual))\n",
    "        \n",
    "        \n",
    "    def terminar_vehículo(self):\n",
    "        \"\"\"Función que se ejecuta al terminar de atender un vehículo.\"\"\"\n",
    "        self.simulación.print(\"taller\", \"{} sale\".format(self.vehículo_actual))\n",
    "        # Ya no estamos atendiendo ningún vehículo\n",
    "        self.vehículo_actual = None\n",
    "        # Vemos si hay otro vehículo, para comenzar a atenderlo\n",
    "        if self.cola:\n",
    "            self.atender_siguiente_vehículo()"
   ]
  },
  {
   "cell_type": "markdown",
   "metadata": {},
   "source": [
    "Ahora, vamos con el vehículo:"
   ]
  },
  {
   "cell_type": "code",
   "execution_count": 9,
   "metadata": {},
   "outputs": [],
   "source": [
    "from random import expovariate\n",
    "\n",
    "class Vehículo:\n",
    "    \n",
    "    ids = count(start=0)\n",
    "    \n",
    "    def __init__(self, simulación, tipo, tasa_media_atención):\n",
    "        self.id = next(self.ids)\n",
    "        self.simulación = simulación\n",
    "        # Colocamos 1 minuto como mínimo de tiempo de atención\n",
    "        self.tiempo_atención = max(expovariate(tasa_media_atención), 1)\n",
    "        self.tiempo_creación = self.simulación.tiempo_simulación\n",
    "        self.tipo = tipo\n",
    "        \n",
    "    def __repr__(self):\n",
    "        return \"{} id={}\".format(self.tipo.capitalize(), self.id)"
   ]
  },
  {
   "cell_type": "markdown",
   "metadata": {},
   "source": [
    "Falta algo, ¿no? Tenemos que hacer \"aparecer\" los vehículos para que la planta los revise. Hagamos una clase especializada en eso:"
   ]
  },
  {
   "cell_type": "code",
   "execution_count": 10,
   "metadata": {},
   "outputs": [],
   "source": [
    "from random import choice\n",
    "\n",
    "class CreadorVehículos:\n",
    "    \n",
    "    def __init__(self, simulación, tasa_media_creación, info_vehículos, taller):\n",
    "        \"\"\"\n",
    "        Inicializa el creador de vehículos.\n",
    "        \n",
    "        info_vehículos es un diccionario de str -> float, donde las\n",
    "        keys son los tipos de vehículos y \n",
    "        los valores son las tasas medias de atención de ese tipo.\n",
    "        \"\"\"\n",
    "        self.simulación = simulación\n",
    "        self.tasa_media_creación = tasa_media_creación\n",
    "        self.info_vehículos = info_vehículos\n",
    "        self.taller = taller\n",
    "        self.configurar()\n",
    "        \n",
    "    def configurar(self):\n",
    "        # Creamos el evento de la primera creación de vehículo\n",
    "        self.programar_creación_vehículo()\n",
    "        \n",
    "    def programar_creación_vehículo(self):\n",
    "        # Vemos en cuánto tiempo (a partir de ahora) liberaremos otro vehículo\n",
    "        retraso = expovariate(self.tasa_media_creación)\n",
    "        # Calculamos el tiempo en que se debe liberar el vehículo\n",
    "        tiempo_evento = self.simulación.tiempo_simulación + retraso\n",
    "        # Creamos el evento\n",
    "        evento = Evento(tiempo_evento, self.crear_vehículo)\n",
    "        # Agregamos el evento a la simulación\n",
    "        self.simulación.agregar_evento(evento)\n",
    "        \n",
    "    def crear_vehículo(self):\n",
    "        # Elegimos el tipo de vehículo a crear, junto con su tasa media de atención\n",
    "        tipo, tasa_media_atención = choice(list(self.info_vehículos.items()))\n",
    "        # Creamos el vehículo\n",
    "        vehículo = Vehículo(self.simulación, tipo, tasa_media_atención)\n",
    "        # Gatillamos la acción de encolar un vehículo en la planta de revisión\n",
    "        self.taller.encolar_vehículo(vehículo)\n",
    "        # Programamos la siguiente creación de vehículo\n",
    "        self.programar_creación_vehículo()"
   ]
  },
  {
   "cell_type": "markdown",
   "metadata": {},
   "source": [
    "Ahora, ¡a unir todo!"
   ]
  },
  {
   "cell_type": "code",
   "execution_count": 11,
   "metadata": {},
   "outputs": [],
   "source": [
    "info_vehículos = {'moto': 1 / 8, 'auto': 1 / 15, 'camioneta': 1 / 20}\n",
    "\n",
    "simulación = Simulación(tiempo_fin=50)\n",
    "taller = Taller(simulación)\n",
    "creador_vehículos = CreadorVehículos(simulación, 1 / 5, info_vehículos, taller)"
   ]
  },
  {
   "cell_type": "code",
   "execution_count": 12,
   "metadata": {},
   "outputs": [
    {
     "name": "stdout",
     "output_type": "stream",
     "text": [
      "[TIEMPO: 3.35 - CONTEXTO: SIMULACIÓN] Extraído: Evento id=1, tiempo=3.34691994933207\n",
      "[TIEMPO: 3.35 - CONTEXTO: TALLER] Camioneta id=0 entró a la cola\n",
      "[TIEMPO: 3.35 - CONTEXTO: TALLER] Camioneta id=0 está siendo atendido\n",
      "[TIEMPO: 10.67 - CONTEXTO: SIMULACIÓN] Extraído: Evento id=2, tiempo=10.668110602899219\n",
      "[TIEMPO: 10.67 - CONTEXTO: TALLER] Camioneta id=0 sale\n",
      "[TIEMPO: 13.28 - CONTEXTO: SIMULACIÓN] Extraído: Evento id=3, tiempo=13.28297985440069\n",
      "[TIEMPO: 13.28 - CONTEXTO: TALLER] Auto id=1 entró a la cola\n",
      "[TIEMPO: 13.28 - CONTEXTO: TALLER] Auto id=1 está siendo atendido\n",
      "[TIEMPO: 13.75 - CONTEXTO: SIMULACIÓN] Extraído: Evento id=5, tiempo=13.746576147342227\n",
      "[TIEMPO: 13.75 - CONTEXTO: TALLER] Auto id=2 entró a la cola\n",
      "[TIEMPO: 15.49 - CONTEXTO: SIMULACIÓN] Extraído: Evento id=6, tiempo=15.487048456392262\n",
      "[TIEMPO: 15.49 - CONTEXTO: TALLER] Auto id=3 entró a la cola\n",
      "[TIEMPO: 20.60 - CONTEXTO: SIMULACIÓN] Extraído: Evento id=7, tiempo=20.59911993518012\n",
      "[TIEMPO: 20.60 - CONTEXTO: TALLER] Moto id=4 entró a la cola\n",
      "[TIEMPO: 21.96 - CONTEXTO: SIMULACIÓN] Extraído: Evento id=8, tiempo=21.963750114135127\n",
      "[TIEMPO: 21.96 - CONTEXTO: TALLER] Auto id=5 entró a la cola\n",
      "[TIEMPO: 26.10 - CONTEXTO: SIMULACIÓN] Extraído: Evento id=9, tiempo=26.102992604106593\n",
      "[TIEMPO: 26.10 - CONTEXTO: TALLER] Moto id=6 entró a la cola\n",
      "[TIEMPO: 30.75 - CONTEXTO: SIMULACIÓN] Extraído: Evento id=4, tiempo=30.746092380819764\n",
      "[TIEMPO: 30.75 - CONTEXTO: TALLER] Auto id=1 sale\n",
      "[TIEMPO: 30.75 - CONTEXTO: TALLER] Auto id=2 está siendo atendido\n",
      "[TIEMPO: 35.09 - CONTEXTO: SIMULACIÓN] Extraído: Evento id=11, tiempo=35.0869047176133\n",
      "[TIEMPO: 35.09 - CONTEXTO: TALLER] Auto id=2 sale\n",
      "[TIEMPO: 35.09 - CONTEXTO: TALLER] Auto id=3 está siendo atendido\n",
      "[TIEMPO: 44.67 - CONTEXTO: SIMULACIÓN] Extraído: Evento id=10, tiempo=44.6696437916049\n",
      "[TIEMPO: 44.67 - CONTEXTO: TALLER] Camioneta id=7 entró a la cola\n",
      "[TIEMPO: 46.16 - CONTEXTO: SIMULACIÓN] Extraído: Evento id=13, tiempo=46.164227969967165\n",
      "[TIEMPO: 46.16 - CONTEXTO: TALLER] Camioneta id=8 entró a la cola\n",
      "[TIEMPO: 47.61 - CONTEXTO: SIMULACIÓN] Extraído: Evento id=12, tiempo=47.606904693755496\n",
      "[TIEMPO: 47.61 - CONTEXTO: TALLER] Auto id=3 sale\n",
      "[TIEMPO: 47.61 - CONTEXTO: TALLER] Moto id=4 está siendo atendido\n",
      "[TIEMPO: 47.61 - CONTEXTO: SIMULACIÓN] Simulación terminada\n"
     ]
    }
   ],
   "source": [
    "simulación.run()"
   ]
  },
  {
   "cell_type": "code",
   "execution_count": 13,
   "metadata": {},
   "outputs": [
    {
     "name": "stdout",
     "output_type": "stream",
     "text": [
      "--------------------------------------------------------------------------------\n",
      "Estadísticas Taller\n",
      "--------------------------------------------------------------------------------\n",
      "Vehículos atendidos: 5\n",
      "Promedio tiempo de atención: 8.9960953421985\n",
      "Promedio tiempo de espera: 12.72143145065479\n",
      "Vehículos todavía en cola: 4\n"
     ]
    }
   ],
   "source": [
    "taller.imprimir_estadísticas()"
   ]
  },
  {
   "cell_type": "markdown",
   "metadata": {},
   "source": [
    "En esta simulación, sacamos un evento y corremos el reloj al tiempo en que ese evento ocurre, por lo que no revisamos los casos en que no ocurre nada. Tenemos eventos de llegadas de vehículos, y de cuando el taller termina de atender a uno. En cada evento se genera un cambio en el estado del sistema, ya sea de la cola de vehículos esperando o del vehículo que está atendiendo el taller."
   ]
  },
  {
   "cell_type": "markdown",
   "metadata": {},
   "source": [
    "## Créditos\n",
    "\n",
    "Material creado por Equipo Docente IIC2233, 2018-1, bajo licencia `Creative Commons Attribution-ShareAlike 4.0 International`"
   ]
  }
 ],
 "metadata": {
  "kernelspec": {
   "display_name": "Python 3",
   "language": "python",
   "name": "python3"
  },
  "language_info": {
   "codemirror_mode": {
    "name": "ipython",
    "version": 3
   },
   "file_extension": ".py",
   "mimetype": "text/x-python",
   "name": "python",
   "nbconvert_exporter": "python",
   "pygments_lexer": "ipython3",
   "version": "3.6.5"
  }
 },
 "nbformat": 4,
 "nbformat_minor": 2
}
