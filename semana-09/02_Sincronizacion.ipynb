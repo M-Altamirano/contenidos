{
 "cells": [
  {
   "cell_type": "markdown",
   "metadata": {},
   "source": [
    "<p>\n",
    "<font size='5' face='Georgia, Arial'>IIC-2233 Apunte Programación Avanzada</font><br>\n",
    "<font size='1'>&copy; 2015 Karim Pichara - Christian Pieringer. Todos los derechos reservados.</font>\n",
    "</p>"
   ]
  },
  {
   "cell_type": "markdown",
   "metadata": {},
   "source": [
    "# Sincronización\n",
    "\n",
    "## Necesidad de sincronizar _threads_\n",
    "\n",
    "En el _notebook_ anterior, vimos qué eran los _threads_, como crearlos, y hablamos sobre situaciones donde podrían ser útiles. Podemos hacer cosas _pseudo-paralelas_, ¿qué podría salir mal?\n",
    "\n",
    "Hagamos dos _threads_ que aumenten un contador $10^6$ veces. Lo que esperaríamos es que el valor final sea $2 \\times 10^6$, ¿no es así?"
   ]
  },
  {
   "cell_type": "code",
   "execution_count": 15,
   "metadata": {},
   "outputs": [
    {
     "name": "stdout",
     "output_type": "stream",
     "text": [
      "Listo, nuestro contador vale 1255299\n"
     ]
    }
   ],
   "source": [
    "import threading\n",
    "\n",
    "\n",
    "class Counter: \n",
    "    def __init__(self):\n",
    "        self.value = 0\n",
    "\n",
    "        \n",
    "def worker(counter):\n",
    "    for _ in range(10 ** 6):\n",
    "        counter.value += 1\n",
    "\n",
    "\n",
    "counter = Counter()        \n",
    "t1 = threading.Thread(target=worker, args=(counter,))\n",
    "t2 = threading.Thread(target=worker, args=(counter,))\n",
    "\n",
    "t1.start()\n",
    "t2.start()\n",
    "t1.join()\n",
    "t2.join()\n",
    "\n",
    "print(\"Listo, nuestro contador vale\", counter.value)"
   ]
  },
  {
   "cell_type": "markdown",
   "metadata": {},
   "source": [
    "😱¿Qué pasó ahí? Como dice un viejo refrán:\n",
    "\n",
    "> Un programador tenía un problema y decidió usar _threads_. Tiene él problemas. Ahora dos.\n",
    "\n",
    "En este ejemplo, intentamos modificar **concurrentemente** un mismo valor o recurso con dos _threads_ distintos. Para entender por qué eso no siempre resulta como pensábamos, tomemos en cuenta que:\n",
    "\n",
    "- Las operaciones de los _threads_ pueden ser pausadas en cualquier momento para dar paso al otro _thread_.\n",
    "- Es imposible saber cómo se interlevan los _threads_. Por ejemplo, es **incorrecto** pensar que el sistema operativo va a hacer una operación del _thread_ 1, luego una del _thread_ 2, y así sucesivamente.\n",
    "\n",
    "Descompongamos en un pseudocódigo – lo más granular posible – lo que hace la máquina en una iteración en cada _worker_:\n",
    "\n",
    "    1. Leer el valor de counter.value\n",
    "    2. Sumar 1 al valor anterior\n",
    "    3. Almacenar el valor obtenido en counter.value \n",
    "    \n",
    "Ahora veamos un escenario posible:\n",
    "\n",
    "    - T1 lee 0 de counter.value\n",
    "    - T1 suma 1 => 1\n",
    "    - T1 guarda 1 en counter.value\n",
    "    - T1 lee 1 de counter.value\n",
    "    - T1 se pausa\n",
    "    - T2 lee 1 de counter.value\n",
    "    - T2 suma 1 => 2\n",
    "    - T2 guarda 2 en counter.value\n",
    "    - T2 lee 2 de counter.value\n",
    "    - T2 suma 1 => 3\n",
    "    - T2 guarda 3 en counter.value\n",
    "    - T2 se pausa\n",
    "    - T1 se reanuda\n",
    "    - T1 suma 1 => 2 (😨)\n",
    "    - T1 guarda 2 en counter.value (😨😨😨)\n",
    "    - ..."
   ]
  },
  {
   "cell_type": "markdown",
   "metadata": {},
   "source": [
    "La situación anterior nos enseña que **deberíamos asegurarnos** de que la operación de aumentar el contador (`counter.value += 1`) sea **atómica**, es decir, que un _thread_ no la pueda iniciar a menos que ningún otro la esté haciendo. Un conjunto de instrucciones que debe ser **atómico** se denomina **sección crítica**.\n",
    "\n",
    "La situación que vimos es una de muchas donde más de un _thread_ debe compartir el acceso a determinados recursos, como son archivos, variables, etc. En estos escenarios, **solo uno** de los _threads_ debe tener acceso al recurso y el resto debe quedar en espera para su uso. Cuando existe **concurrencia** múltiple a un recurso es posible controlar el acceso a este mediante mecanismos de **sincronización** entre los _threads_."
   ]
  },
  {
   "cell_type": "markdown",
   "metadata": {},
   "source": [
    "## Mecanismos de sincronización\n",
    "\n",
    "Ahora, veremos dos formas de coordinar nuestros _threads_."
   ]
  },
  {
   "cell_type": "markdown",
   "metadata": {},
   "source": [
    "### Lock\n",
    "\n",
    "El _lock_ es una primitiva de sincronización de _threads_, provista por la clase `Lock` de la librería `threading`. Se utiliza para que sólo un _thread_ pueda estar en una misma sección crítica a la vez. En otras palabras, el _lock_ permite la sincronización para el acceso a los recursos compartidos entre dos o más _threads_. \n",
    "\n",
    "\n",
    "Un _lock_ puede estar **bloqueado** o **desbloqueado** (parte desbloqueado). Si un _thread_ quiere entrar a una sección crítica, primero debe adquirir el _lock_ mediante la operación `acquire()`. Una vez que el _thread_ consigue adquirir el _lock_, lo deja bloqueado, haciendo que otros _threads_ que quieran adquirir el mismo _lock_ deban esperar. Cuando el _thread_ quiera salir de la sección crítica, debe liberar el lock mediante `release()`, con lo que el _lock_ queda desbloqueado, permitiendo que otro _thread_ pueda adquirirlo.\n",
    "\n",
    "![lock](imgs/lock.png)\n",
    "\n",
    "Abajo, se ejemplifica el modo de usar un _lock_."
   ]
  },
  {
   "cell_type": "code",
   "execution_count": 19,
   "metadata": {},
   "outputs": [],
   "source": [
    "import threading\n",
    "\n",
    "global_lock = threading.Lock()\n",
    "\n",
    "def worker_con_sección_crítica(counter):\n",
    "    for _ in range(10 ** 6):\n",
    "        # Pedimos el lock antes de entrar a la sección crítica.\n",
    "        global_lock.acquire()\n",
    "        # --- Sección crítica ---. \n",
    "        # Está garantizado que en estas líneas sólo habrá un thread a la vez.\n",
    "        counter.value += 1\n",
    "        # --- Fin de la sección crítica ---.\n",
    "        # Liberamos el lock luego de salir de la sección crítica.\n",
    "        global_lock.release()"
   ]
  },
  {
   "cell_type": "markdown",
   "metadata": {},
   "source": [
    "Nuestro ejemplo del contador funcionará correctamente 👍."
   ]
  },
  {
   "cell_type": "code",
   "execution_count": 20,
   "metadata": {},
   "outputs": [
    {
     "name": "stdout",
     "output_type": "stream",
     "text": [
      "Listo, nuestro contador vale 2000000\n"
     ]
    }
   ],
   "source": [
    "counter = Counter()        \n",
    "t1 = threading.Thread(target=worker_con_sección_crítica, args=(counter,))\n",
    "t2 = threading.Thread(target=worker_con_sección_crítica, args=(counter,))\n",
    "\n",
    "t1.start()\n",
    "t2.start()\n",
    "t1.join()\n",
    "t2.join()\n",
    "\n",
    "print(\"Listo, nuestro contador vale\", counter.value)"
   ]
  },
  {
   "cell_type": "markdown",
   "metadata": {},
   "source": [
    "Afortunadamente en Python los _locks_ también pueden funcionar dentro de un _context manager_ a través de la sentencia `with`. En este caso es el mismo `with` el que se encarga de llamar los métodos `acquire()` y `release()`. De esta forma el _lock_ usado en el método `worker_con_sección_crítica` quedaría como se indica a continuación:"
   ]
  },
  {
   "cell_type": "code",
   "execution_count": 21,
   "metadata": {},
   "outputs": [],
   "source": [
    "global_lock = threading.Lock()\n",
    "\n",
    "def worker_con_sección_crítica(counter):\n",
    "    for _ in range(10 ** 6):\n",
    "        with global_lock:\n",
    "            # --- Sección crítica ---. \n",
    "            # Está garantizado que en estas líneas sólo habrá un thread a la vez.\n",
    "            counter.value += 1\n",
    "            # --- Fin de la sección crítica ---."
   ]
  },
  {
   "cell_type": "markdown",
   "metadata": {},
   "source": [
    "### Señales entre _threads_\n",
    "\n",
    "Vimos el _lock_, que nos permitía que nuestros _threads_ pudieran compartir un mismo recurso. Pero, ¿cómo podemos hacer que un _thread_ espere a que otro le diga cuando continuar? Para ello tenemos los `Event`. Un _event_ es uno de los mecanismos más simples de comunicación entre _threads_: un _thread_ hace una señal, y otros _threads_ esperan a que esa señal ocurra. Los `Event` tienen un _flag_ interno, que toma el valor `True` cuando la señal está activa, y `False` cuando no.\n",
    "\n",
    "Un _thread_ puede esperar una señal llamando al método `wait()` del `Event`, con ello, el _thread_ quedará en pausa hasta que otro _thread_ haga la señal correspondiente. En caso de que la señal ya haya estado activa antes de hacer `wait()`, el _thread_ puede seguir inmediatamente sin esperar.\n",
    "\n",
    "Para hacer la señal, un _thread_ debe llamar al método `set()`, que dejará el _flag_ interno del objeto `Event` en `True`. Finalmente, un _thread_ cualquiera puede _resetear_ la señal llamando a `clear()` del objeto `Event`, dejando el _flag_ en `False`.\n",
    "\n",
    "Un ejemplo es cuando queremos reproducir un audio y un video de la forma más sincronizada posible. Supongamos que tenemos un _thread_ encargado de leer el audio, y otro de leer el video. El _thread_ encargado del audio debería esperar a que el _thread_ encargado del video esté listo para empezar, y viceversa:"
   ]
  },
  {
   "cell_type": "code",
   "execution_count": 27,
   "metadata": {},
   "outputs": [
    {
     "name": "stdout",
     "output_type": "stream",
     "text": [
      "Cargando audio dummy en t=1526099543.160465\n",
      "Cargando video dummy en t=1526099543.160967\n",
      "Video cargado! en t=1526099546.164323\n",
      "Audio cargado! en t=1526099548.161283\n",
      "Reproduciendo audio en t=1526099548.161648\n",
      "Reproduciendo video en t=1526099548.161954\n"
     ]
    }
   ],
   "source": [
    "# Ejemplo sacado de http://zulko.github.io/blog/2013/09/19/a-basic-example-of-threads-synchronization-in-python/\n",
    "\n",
    "import threading\n",
    "import time\n",
    "\n",
    "# Tenemos dos eventos o señales.\n",
    "# Esta es para avisar que el video ya está listo para ser reproducido.\n",
    "video_cargado = threading.Event()\n",
    "# Esta es para avisar que el audio ya está listo para ser reproducido.\n",
    "audio_cargado = threading.Event()\n",
    "\n",
    "def reproducir_video(nombre):\n",
    "    print(\"Cargando video {} en t={:.6f}\".format(nombre, time.time()))\n",
    "    # Supongamos que se demora 3 segundos\n",
    "    time.sleep(3)\n",
    "    print(\"Video cargado! en t={:.6f}\".format(time.time()))\n",
    "    # Avisamos que el video ya está cargado\n",
    "    video_cargado.set()\n",
    "    # Esperamos a que el audio ya se haya cargado\n",
    "    audio_cargado.wait()\n",
    "    # Listo!\n",
    "    print(\"Reproduciendo video en t={:.6f}\".format(time.time()))\n",
    "    \n",
    "    \n",
    "def reproducir_audio(nombre):\n",
    "    print(\"Cargando audio {} en t={:.6f}\".format(nombre, time.time()))\n",
    "    # Supongamos que se demora 5 segundos\n",
    "    time.sleep(5)\n",
    "    print(\"Audio cargado! en t={:.6f}\".format(time.time()))\n",
    "    # Avisamos que el audio ya está cargado\n",
    "    audio_cargado.set()\n",
    "    # Esperamos a que el video ya se haya cargado\n",
    "    video_cargado.wait()\n",
    "    # Listo!\n",
    "    print(\"Reproduciendo audio en t={:.6f}\".format(time.time()))\n",
    "    \n",
    "    \n",
    "t1 = threading.Thread(target=reproducir_audio, args=('dummy',))\n",
    "t2 = threading.Thread(target=reproducir_video, args=('dummy',))\n",
    "\n",
    "t1.start()\n",
    "t2.start()\n",
    "\n",
    "t1.join()\n",
    "t2.join()"
   ]
  },
  {
   "cell_type": "markdown",
   "metadata": {},
   "source": [
    "En el ejemplo anterior, gracias a la coordinación de _threads_ con _events_, conseguimos que el audio y el video se empiecen a reproducir _casi_ simultáneamente. De otra manera, el video habría empezado mucho antes, puesto que demoró solo 3 segundos en cargar, mientras que el audio tardó 5 segundos."
   ]
  },
  {
   "cell_type": "markdown",
   "metadata": {},
   "source": [
    "### Otros métodos de coordinación entre _threads_\n",
    "\n",
    "En Python existen otras maneras de coordinar _threads_, que son adecuadas para otras situaciones. No las veremos en detalle en este curso. Si gustas, puedes verlas en la [documentación](https://docs.python.org/3/library/threading.html#lock-objects)"
   ]
  },
  {
   "cell_type": "markdown",
   "metadata": {},
   "source": [
    "## _Deadlocks_\n",
    "\n",
    "Introdujimos formar de coordinar _threads_, o de hacer que un _thread_ espere al otro. Existen situaciones – por error – donde dos o más _threads_ se esperan mutuamente, sin que ninguno finalmente avance. A este tipo de situaciones se le llama _**deadlock**_ o **interbloqueo**, aunque hay nombres _menos afortunados_...\n",
    "\n",
    "![Abrazo mortal](imgs/abrazo-mortal.png)\n",
    "\n",
    "Veamos dos ejemplos concretos de _**deadlocks**_.\n",
    "\n",
    "Ejemplo con _locks_:"
   ]
  },
  {
   "cell_type": "code",
   "execution_count": 33,
   "metadata": {},
   "outputs": [
    {
     "name": "stdout",
     "output_type": "stream",
     "text": [
      "Worker: adquiriendo lock_2\n",
      "Master: adquiriendo lock_1\n",
      "Worker: adquiriendo lock_1\n",
      "Master: adquiriendo lock_2\n"
     ]
    }
   ],
   "source": [
    "import threading\n",
    "import time\n",
    "\n",
    "\n",
    "lock_1 = threading.Lock()\n",
    "lock_2 = threading.Lock()\n",
    "\n",
    "\n",
    "def master():\n",
    "    time.sleep(2)\n",
    "    print(\"Master: adquiriendo lock_1\")\n",
    "    with lock_1:\n",
    "        time.sleep(2)\n",
    "        print(\"Master: adquiriendo lock_2\")\n",
    "        with lock_2:\n",
    "            print(\"Master: trabajando!\")\n",
    "\n",
    "\n",
    "def worker():\n",
    "    time.sleep(1.5)\n",
    "    print(\"Worker: adquiriendo lock_2\")\n",
    "    with lock_2:\n",
    "        time.sleep(2)\n",
    "        print(\"Worker: adquiriendo lock_1\")\n",
    "        with lock_1:\n",
    "            print(\"Worker: trabajando!\")\n",
    "\n",
    "\n",
    "t1 = threading.Thread(target=master)\n",
    "t2 = threading.Thread(target=worker)\n",
    "\n",
    "t1.start()\n",
    "t2.start()"
   ]
  },
  {
   "cell_type": "markdown",
   "metadata": {},
   "source": [
    "En el ejemplo anterior, tenemos dos _threads_ y dos _locks_. El _thread_ _master_ alcanza a adquirir el `lock_1`, y el _thread_ _worker_ alcanza a adquirir el `lock_2`. Luego, _master_ trata de adquirir `lock_2`, por lo que debe esperar que _worker_ lo libere. Sin embargo, _worker_ no liberará el `lock_2` sin antes poder adquirir `lock_1` 💀.\n",
    "\n",
    "Ejemplo con _events_. Nota que es el mismo que el de la sección de [señales entre _threads_](#Señales-entre-threads), solo que cambiamos el orden en que se revisan/levantan las señales:"
   ]
  },
  {
   "cell_type": "code",
   "execution_count": 38,
   "metadata": {},
   "outputs": [
    {
     "name": "stdout",
     "output_type": "stream",
     "text": [
      "Cargando audio dummy en t=1526102957.705641\n",
      "Cargando video dummy en t=1526102957.706139\n",
      "Video cargado! en t=1526102960.707094\n",
      "Audio cargado! en t=1526102962.711043\n"
     ]
    }
   ],
   "source": [
    "import threading\n",
    "import time\n",
    "\n",
    "\n",
    "video_cargado = threading.Event()\n",
    "audio_cargado = threading.Event()\n",
    "\n",
    "def reproducir_video(nombre):\n",
    "    print(\"Cargando video {} en t={:.6f}\".format(nombre, time.time()))\n",
    "    time.sleep(3)\n",
    "    print(\"Video cargado! en t={:.6f}\".format(time.time()))\n",
    "    audio_cargado.wait()\n",
    "    video_cargado.set()\n",
    "    print(\"Reproduciendo video en t={:.6f}\".format(time.time()))\n",
    "    \n",
    "    \n",
    "def reproducir_audio(nombre):\n",
    "    print(\"Cargando audio {} en t={:.6f}\".format(nombre, time.time()))\n",
    "    time.sleep(5)\n",
    "    print(\"Audio cargado! en t={:.6f}\".format(time.time()))\n",
    "    video_cargado.wait()\n",
    "    audio_cargado.set()\n",
    "    print(\"Reproduciendo audio en t={:.6f}\".format(time.time()))\n",
    "    \n",
    "    \n",
    "t1 = threading.Thread(target=reproducir_audio, args=('dummy',))\n",
    "t2 = threading.Thread(target=reproducir_video, args=('dummy',))\n",
    "\n",
    "t1.start()\n",
    "t2.start()"
   ]
  },
  {
   "cell_type": "markdown",
   "metadata": {},
   "source": [
    "Esencialmente, en el ejemplo anterior estamos esperando que el otro _thread_ avise que hizo su trabajo, antes de avisar que el _thread_ actual hizo el suyo. Esto produce que `reproducir_video` espere a que la señal de `audio_cargado` se active, antes de activar `video_cargado`. Sin embargo, `reproducir_audio` está esperando que `video_cargado` se active para luego activar `audio_cargado` 💀."
   ]
  },
  {
   "cell_type": "markdown",
   "metadata": {},
   "source": [
    "Lo importante – para ti como programador(a) – es saber que los _**deadlocks**_ pueden ocurrir, y que debes tener cuidado al programar para que esto no te pase."
   ]
  },
  {
   "cell_type": "markdown",
   "metadata": {},
   "source": [
    "## Más ejemplos y aplicaciones"
   ]
  },
  {
   "cell_type": "code",
   "execution_count": 1,
   "metadata": {
    "collapsed": true
   },
   "outputs": [],
   "source": [
    "import threading\n",
    "import time\n",
    "from random import random\n",
    "\n",
    "\n",
    "class MiThread(threading.Thread):\n",
    "    # Esta clase modela un thread.\n",
    "    \n",
    "    def __init__(self, i, archivo, lock_escritura=None):\n",
    "        super().__init__()\n",
    "        self.i = i\n",
    "        self.archivo = archivo\n",
    "        self.lock_escritura = lock_escritura\n",
    "    \n",
    "    def run(self):\n",
    "        # El método run() maneja que debe hacer el thread durante la ejecución \n",
    "        # cada vez que se llama al método start()\n",
    "        \n",
    "        # bloquea la ejecución de los demas threads al intentar escribir en el archivo\n",
    "        self.lock_escritura.acquire() \n",
    "        try:\n",
    "            self.archivo.write('Esta linea fue escrita por el thread # {}\\n'.format(self.i))\n",
    "        finally:\n",
    "            # devuelve el control del recurso a los threads en espera\n",
    "            time.sleep(random())\n",
    "            self.lock_escritura.release()\n",
    "            \n",
    "                \n",
    "if __name__ == '__main__':\n",
    "    num_threads = 7\n",
    "    threads = []\n",
    "    \n",
    "    # Creamos un archivo para escribir una salida. Luego creamos los threads \n",
    "    # que escribirán dentro del archivo\n",
    "    lock_escritura = threading.Lock()\n",
    "\n",
    "    with open('salida.txt', 'w') as archivo:\n",
    "        for i in range(num_threads):\n",
    "            # se crea el thread pasando sus parámetros, pasando el lock como referencia\n",
    "            my_thread = MiThread(i, archivo, lock_escritura) \n",
    "            \n",
    "            # Se inicializa el thread. Se ejecuta lo que tiene el método run()\n",
    "            my_thread.start()\n",
    "            \n",
    "            threads.append(my_thread)\n",
    "\n",
    "        # Evita que el archivo sea cerrado antes que los threads terminen de escribir\n",
    "        for thread in threads:\n",
    "            thread.join()"
   ]
  },
  {
   "cell_type": "markdown",
   "metadata": {},
   "source": [
    "Otra variante del mismo ejemplo. Podemos también crear el Lock como variable de clase, de esta forma el lock sigue siendo independiente al thread que lo usará."
   ]
  },
  {
   "cell_type": "code",
   "execution_count": 2,
   "metadata": {
    "collapsed": true
   },
   "outputs": [],
   "source": [
    "import threading\n",
    "import time\n",
    "from random import random\n",
    "\n",
    "\n",
    "class MiThread(threading.Thread):\n",
    "    # Esta clase modela un thread. Dentro creamos un objeto para bloqueo dentro de la clase\n",
    "    # El Lock es una variable independiente de cada thread\n",
    "    lock = threading.Lock()\n",
    "    \n",
    "    def __init__(self, i, archivo):\n",
    "        super().__init__()\n",
    "        self.i = i\n",
    "        self.archivo = archivo\n",
    "    \n",
    "    def run(self):\n",
    "        # El método run() maneja que debe hacer el thread durante la ejecución \n",
    "        # cada vez que se llama al método start()\n",
    "        \n",
    "        # bloquea la ejecución de los demas threads al intentar escribir en el archivo\n",
    "        MiThread.lock.acquire() \n",
    "        try:\n",
    "            self.archivo.write('Esta linea fue escrita por el thread # {}\\n'.format(self.i))\n",
    "        finally:\n",
    "            # devuelve el control del recurso a los threads en espera\n",
    "            time.sleep(random())\n",
    "            MiThread.lock.release()\n",
    "            \n",
    "                \n",
    "if __name__ == '__main__':\n",
    "    num_threads = 7\n",
    "    threads = []\n",
    "    \n",
    "    # Creamos un archivo para escribir una salida. Luego creamos los threads \n",
    "    # que escribirán dentro del archivo\n",
    "    \n",
    "    with open('salida.txt', 'w') as archivo:\n",
    "        for i in range(num_threads):\n",
    "            my_thread = MiThread(i, archivo) # se crea el thread pasando sus parámetros\n",
    "            my_thread.start() # Se inicializa el thread. Se ejecuta lo que tiene el método run()\n",
    "            threads.append(my_thread)\n",
    "        \n",
    "        # Evita que el archivo sea cerrado antes que los threads terminen de escribir\n",
    "        for thread in threads:\n",
    "            thread.join()"
   ]
  },
  {
   "cell_type": "code",
   "execution_count": 3,
   "metadata": {
    "collapsed": true
   },
   "outputs": [],
   "source": [
    "def run(self):\n",
    "    with MiThread.lock:\n",
    "        self.archivo.write('Esta linea fue escrita por el thread # {}\\n'.format(self.i))"
   ]
  },
  {
   "cell_type": "markdown",
   "metadata": {},
   "source": [
    "Un problema común en programación concurrente es el patrón <b>Productor-Consumidor</b>. Este se origina cuando dos o más threads, conocidos como <b>productores</b> y <b>consumidores</b>, acceden a un mismo espacio almacenamiento o <b>buffer</b>. Bajo este esquema, los productores ponen ítems en el <i>buffer</i> y los consumidores sacan elementos del <i>buffer</i>. Este modelo permite la comunicación entre distintos threads. Por lo general el <i>buffer</i> compartido en este modelo se implementa mediante una <b>cola sincronizada</b> o <b>cola segura</b>. \n",
    "\n",
    "Por ejemplo, supongamos que podemos separar un programa que realiza el procesamiento de un archivo de texto en dos procesos independientes implementados mediante threads. Donde, el primer thread se encargará de la lectura del archivo y procesamiento de las líneas; y el segundo thread de almacenar en otro archivo el resultado de la suma de ambos valores leídos. Comunicaremos ambos threads mediante una cola sincronizada implementada como se muestra a continuación."
   ]
  },
  {
   "cell_type": "code",
   "execution_count": 4,
   "metadata": {
    "collapsed": true
   },
   "outputs": [],
   "source": [
    "import collections\n",
    "\n",
    "class MiDeque(collections.deque):\n",
    "    # Para crear la cola heredamos un deque desde el modulo collections \n",
    "    # y agregaremos los mecanismos de bloqueo para asegurar la sincronización \n",
    "    # entre los threads.\n",
    "\n",
    "    def __init__(self):\n",
    "        super().__init__()\n",
    "        self.lock = threading.Lock() # agregamos el seguro a la cola\n",
    "\n",
    "    def agregar(self, elemento):\n",
    "        # Como mencionamos anteriormente, los bloqueos pueden ser usados\n",
    "        # dentro de un context-manager\n",
    "\n",
    "        with self.lock:\n",
    "            self.append(elemento)\n",
    "            print('[AGREAGAR] cola tiene {} elementos'.format(len(self)))\n",
    "\n",
    "    def obtener(self):\n",
    "        with self.lock:\n",
    "            print('[SACAR] la cola tiene {} elementos'.format(len(self)))\n",
    "            return self.popleft()"
   ]
  },
  {
   "cell_type": "markdown",
   "metadata": {},
   "source": [
    "Veamos ahora el resto de la implementación del productor y el consumidor. Como recomendación, probar los ejemplos directamente en un terminal o desde un IDE como PyCharm."
   ]
  },
  {
   "cell_type": "code",
   "execution_count": null,
   "metadata": {
    "collapsed": true
   },
   "outputs": [],
   "source": [
    "import threading\n",
    "import time\n",
    "\n",
    "\n",
    "class Productor(threading.Thread):\n",
    "    \n",
    "    def __init__(self, cola):\n",
    "        super().__init__()\n",
    "        self.cola = cola\n",
    "\n",
    "    def run(self):\n",
    "        # Abrimos un contexto para manejar el archivo de entrada y procesamos cada línea\n",
    "\n",
    "        with open('lista_numeros.txt') as archivo:           \n",
    "            for linea in archivo:\n",
    "                valores = tuple(map(int, linea.strip().split(',')))\n",
    "                self.cola.agregar(valores)\n",
    "\n",
    "\n",
    "class Consumidor(threading.Thread):\n",
    "    \n",
    "    def __init__(self, cola):\n",
    "        super().__init__()\n",
    "        self.cola = cola\n",
    "\n",
    "    def run(self):\n",
    "        with open('numeros_procesados.txt', 'w') as archivo:\n",
    "            while len(self.cola) > 0:\n",
    "                numeros = self.cola.obtener()\n",
    "                archivo.write('{}\\n'.format(sum(numeros)))\n",
    "                # ayuda a simular que el consumidor es más lento que el productor\n",
    "                time.sleep(0.001) \n",
    "            \n",
    "\n",
    "\n",
    "if __name__ == '__main__':\n",
    "\n",
    "    cola = MiDeque()\n",
    "\n",
    "    p = Productor(cola)\n",
    "    p.start()\n",
    "    \n",
    "    c = Consumidor(cola)\n",
    "    c.start()"
   ]
  },
  {
   "cell_type": "markdown",
   "metadata": {},
   "source": [
    "<h2>Queue</h2>\n",
    "\n",
    "Afortunadamente en Python existe una libería optimizada para el manejo de colas seguras en modelos <b>productor-consumidor</b>. La librería <b>queue</b> tiene implementada una cola que maneja múltiples concurrencias de forma segura. Es distinta a la cola implementada en <b>collections</b> usada para estructura de datos, la que no tiene ningún tipo de bloqueo para sincronización.\n",
    "\n",
    "Los métodos principales de una cola de la librería Queue son:\n",
    "\n",
    "- <b>put()</b>: agrega un ítem a la cola (push)\n",
    "- <b>get()</b>: remueve y retorna un ítem desde la cola (pop)\n",
    "- <b>task_done()</b>: require ser llamado cada vez que in ítem ha sido procesado\n",
    "- <b>join()</b>: bloquea la cola hasta que todos los ítems han sido procesados\n",
    "\n",
    "Volvamos al ejemplo anterior del procesamiento de un archivo de texto mediante dos threads independientes. El modelamiento quedaría de la siguiente manera."
   ]
  },
  {
   "cell_type": "code",
   "execution_count": 5,
   "metadata": {},
   "outputs": [
    {
     "name": "stdout",
     "output_type": "stream",
     "text": [
      "[Productor] la cola tiene 1 elementos\n",
      "[Consumidor] la cola ahora tiene 0 elementos\n",
      "[Productor] la cola tiene 1 elementos\n",
      "[Productor] la cola tiene 2 elementos\n",
      "[Productor] la cola tiene 3 elementos\n",
      "[Consumidor] la cola ahora tiene 3 elementos\n",
      "[Consumidor] la cola ahora tiene 2 elementos\n",
      "[Consumidor] la cola ahora tiene 1 elementos\n",
      "[Consumidor] proceso finalizado\n"
     ]
    }
   ],
   "source": [
    "import threading\n",
    "import time\n",
    "import queue\n",
    "from random import randint\n",
    "\n",
    "\n",
    "class Productor(threading.Thread):\n",
    "    def __init__(self, cola):\n",
    "        super().__init__()\n",
    "        self.cola = cola\n",
    "\n",
    "    def run(self):\n",
    "        with open('lista_numeros.txt') as archivo:\n",
    "            for linea in archivo:\n",
    "                valores = tuple(map(int, linea.strip().split(',')))\n",
    "                self.cola.put(valores)\n",
    "                print('[Productor] la cola tiene {} elementos'.format(self.cola.qsize()))\n",
    "                \n",
    "                # ayuda a simular que los procesos son más pesados computacionalmente\n",
    "                time.sleep(0.1) \n",
    "                \n",
    "            # Detendra el consumidor una vez que termine de procesar el ultimo valor\n",
    "            self.cola.put('STOP')\n",
    "                \n",
    "class Consumidor(threading.Thread):\n",
    "    \n",
    "    def __init__(self, cola):\n",
    "        super().__init__()\n",
    "        self.cola = cola\n",
    "        \n",
    "    def run(self):\n",
    "        with open('numeros_procesados.txt', 'w') as archivo:\n",
    "            \n",
    "            while True:\n",
    "                # Se utiliza try/except para revisar que haya elementos en la cola\n",
    "                # Debemos chequear la condicion de termino de consumidor ('STOP'). \n",
    "                # De caso contrario el consumidor estaría ejecutándose infinitamente.\n",
    "\n",
    "                try:\n",
    "                    # si no hay más elementos en la cola levanta una \n",
    "                    # excepcion del tipo Empty desde queue.\n",
    "                    numeros = self.cola.get(False) \n",
    "\n",
    "                except queue.Empty:\n",
    "                    continue\n",
    "\n",
    "                else:\n",
    "                    if numeros == 'STOP':\n",
    "                        print('[Consumidor] proceso finalizado')\n",
    "                        break\n",
    "                    \n",
    "                    archivo.write('{}\\n'.format(sum(numeros)))\n",
    "                    self.cola.task_done()\n",
    "\n",
    "                    # qsize() retorna el tamaño de la cola\n",
    "                    print('[Consumidor] la cola ahora tiene {} elementos'.format(self.cola.qsize())) \n",
    "\n",
    "                    # Simula un proceso más pesado.                    \n",
    "                    time.sleep(randint(1, 5)) \n",
    "\n",
    "\n",
    "\n",
    "if __name__ == '__main__':\n",
    "\n",
    "    q = queue.Queue() # se crea una cola sincronizada desde la librería queue\n",
    "\n",
    "    p = Productor(q) # se crea el productor que recibe como argumento una cola Q\n",
    "    p.start()\n",
    "\n",
    "    # se crea un thread con el consumidor. También recibe la cola.\n",
    "    # Para implementarlo mediante un enfoque funcional:\n",
    "    # threading.Thread(target=consumidor, args=(q,)) \n",
    "    c = Consumidor(q)\n",
    "    c.start()"
   ]
  }
 ],
 "metadata": {
  "kernelspec": {
   "display_name": "Python 3",
   "language": "python",
   "name": "python3"
  },
  "language_info": {
   "codemirror_mode": {
    "name": "ipython",
    "version": 3
   },
   "file_extension": ".py",
   "mimetype": "text/x-python",
   "name": "python",
   "nbconvert_exporter": "python",
   "pygments_lexer": "ipython3",
   "version": "3.6.5"
  }
 },
 "nbformat": 4,
 "nbformat_minor": 1
}
