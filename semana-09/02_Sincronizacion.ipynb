{
 "cells": [
  {
   "cell_type": "markdown",
   "metadata": {},
   "source": [
    "<p>\n",
    "<font size='5' face='Georgia, Arial'>IIC-2233 Apunte Programación Avanzada</font><br>\n",
    "<font size='1'>&copy; 2015 Karim Pichara - Christian Pieringer. Todos los derechos reservados.</font>\n",
    "</p>"
   ]
  },
  {
   "cell_type": "markdown",
   "metadata": {},
   "source": [
    "## Sincronización\n",
    "\n",
    "En el _notebook_ anterior, vimos qué eran los _threads_, como crearlos, y hablamos sobre situaciones donde podrían ser útiles. Podemos hacer cosas _pseudo-paralelas_, ¿qué podría salir mal?\n",
    "\n",
    "Hagamos dos _threads_ que aumenten un contador $10^6$ veces. Lo que esperaríamos es que el valor final sea $2 \\times 10^6$, ¿no es así?"
   ]
  },
  {
   "cell_type": "code",
   "execution_count": 15,
   "metadata": {},
   "outputs": [
    {
     "name": "stdout",
     "output_type": "stream",
     "text": [
      "Listo, nuestro contador vale 1255299\n"
     ]
    }
   ],
   "source": [
    "import threading\n",
    "\n",
    "\n",
    "class Counter: \n",
    "    def __init__(self):\n",
    "        self.value = 0\n",
    "\n",
    "        \n",
    "def worker(counter):\n",
    "    for _ in range(10 ** 6):\n",
    "        counter.value += 1\n",
    "\n",
    "\n",
    "counter = Counter()        \n",
    "t1 = threading.Thread(target=worker, args=(counter,))\n",
    "t2 = threading.Thread(target=worker, args=(counter,))\n",
    "\n",
    "t1.start()\n",
    "t2.start()\n",
    "t1.join()\n",
    "t2.join()\n",
    "\n",
    "print(\"Listo, nuestro contador vale\", counter.value)"
   ]
  },
  {
   "cell_type": "markdown",
   "metadata": {},
   "source": [
    "😱¿Qué pasó ahí? Como dice un viejo refrán:\n",
    "\n",
    "> Un programador tenía un problema y decidió usar _threads_. Tiene él problemas. Ahora dos.\n",
    "\n",
    "En este ejemplo, intentamos modificar **concurrentemente** un mismo valor o recurso con dos _threads_ distintos. Para entender por qué eso no siempre resulta como pensábamos, tomemos en cuenta que:\n",
    "\n",
    "- Las operaciones de los _threads_ pueden ser pausadas en cualquier momento para dar paso al otro _thread_.\n",
    "- Es imposible saber cómo se interlevan los _threads_. Por ejemplo, es **incorrecto** pensar que el sistema operativo va a hacer 1 operación del _thread_ 1, luego 1 del _thread_ 2, y así sucesivamente.\n",
    "\n",
    "Descompongamos en un pseudocódigo – lo más granular posible – lo que hace una iteración en cada _worker_:\n",
    "\n",
    "    1. Leer el valor de counter.value\n",
    "    2. Sumar 1 al valor anterior\n",
    "    3. Almacenar el valor obtenido en counter.value \n",
    "    \n",
    "Ahora veamos un escenario posible:\n",
    "\n",
    "    - T1 lee 0 de counter.value\n",
    "    - T1 suma 1 => 1\n",
    "    - T1 guarda 1 en counter.value\n",
    "    - T1 lee 1 de counter.value\n",
    "    - T1 se pausa\n",
    "    - T2 lee 1 de counter.value\n",
    "    - T2 suma 1 => 2\n",
    "    - T2 guarda 2 en counter.value\n",
    "    - T2 lee 2 de counter.value\n",
    "    - T2 suma 1 => 3\n",
    "    - T2 guarda 3 en counter.value\n",
    "    - T2 se pausa\n",
    "    - T1 se reanuda\n",
    "    - T1 suma 1 => 2 (😨)\n",
    "    - T1 guarda 2 en counter.value (😨😨😨)\n",
    "    - ..."
   ]
  },
  {
   "cell_type": "markdown",
   "metadata": {},
   "source": [
    "La situación anterior nos enseña que **deberíamos asegurarnos** de que la operación de aumentar el contador (`counter.value += 1`) sea **atómica**. Es decir, que un _thread_ no la pueda iniciar a menos que ningún otro la esté haciendo. Eso nos exige **coordinar o sincronizar** los _threads_."
   ]
  },
  {
   "cell_type": "markdown",
   "metadata": {},
   "source": [
    "Esta es una de las muchas situaciones donde más de un _thread_ debe compartir el acceso a determinados recursos, como son archivos, variables, etc. Durante este proceso, **solo uno** de los _threads_ debe tener acceso al recurso y el resto debe quedar en espera para su uso. Cuando existe **concurrencia** múltiple a un recurso es posible controlar el acceso a este mediante mecanismos de **sincronización** entre los _threads_."
   ]
  },
  {
   "cell_type": "markdown",
   "metadata": {},
   "source": [
    "<h2>Bloqueo</h2>\n",
    "\n",
    "El <b>bloqueo</b> permite la sincronización para el acceso a los recursos compartidos entre dos o más threads. La librería <i>Threading</i> nos provee de la clase <b>Lock</b> que permite esta sincronización. Un bloqueo tiene dos estados: <b>bloqueado</b> y <b>desbloqueado</b>. El estado por defecto es desbloqueado. Para bloquear la ejecución de otros threads durante su ejecución se utiliza el método <b>acquire()</b> mediante el cual el thread actual que llega hasta ese punto del programa toma control del recurso. Durante este tiempo el resto de los threads detiene la ejecución cuando trata de tomar control del recurso hasta que se libera el acceso mediante el método <b>release()</b> llamado desde el thread que mantiene el bloqueo. En la siguiente figura vemos un esquema general de sincronización entre threads usan bloqueos.\n",
    "\n",
    "![lock](imgs/lock.png)"
   ]
  },
  {
   "cell_type": "code",
   "execution_count": 1,
   "metadata": {
    "collapsed": true
   },
   "outputs": [],
   "source": [
    "import threading\n",
    "import time\n",
    "from random import random\n",
    "\n",
    "\n",
    "class MiThread(threading.Thread):\n",
    "    # Esta clase modela un thread.\n",
    "    \n",
    "    def __init__(self, i, archivo, lock_escritura=None):\n",
    "        super().__init__()\n",
    "        self.i = i\n",
    "        self.archivo = archivo\n",
    "        self.lock_escritura = lock_escritura\n",
    "    \n",
    "    def run(self):\n",
    "        # El método run() maneja que debe hacer el thread durante la ejecución \n",
    "        # cada vez que se llama al método start()\n",
    "        \n",
    "        # bloquea la ejecución de los demas threads al intentar escribir en el archivo\n",
    "        self.lock_escritura.acquire() \n",
    "        try:\n",
    "            self.archivo.write('Esta linea fue escrita por el thread # {}\\n'.format(self.i))\n",
    "        finally:\n",
    "            # devuelve el control del recurso a los threads en espera\n",
    "            time.sleep(random())\n",
    "            self.lock_escritura.release()\n",
    "            \n",
    "                \n",
    "if __name__ == '__main__':\n",
    "    num_threads = 7\n",
    "    threads = []\n",
    "    \n",
    "    # Creamos un archivo para escribir una salida. Luego creamos los threads \n",
    "    # que escribirán dentro del archivo\n",
    "    lock_escritura = threading.Lock()\n",
    "\n",
    "    with open('salida.txt', 'w') as archivo:\n",
    "        for i in range(num_threads):\n",
    "            # se crea el thread pasando sus parámetros, pasando el lock como referencia\n",
    "            my_thread = MiThread(i, archivo, lock_escritura) \n",
    "            \n",
    "            # Se inicializa el thread. Se ejecuta lo que tiene el método run()\n",
    "            my_thread.start()\n",
    "            \n",
    "            threads.append(my_thread)\n",
    "\n",
    "        # Evita que el archivo sea cerrado antes que los threads terminen de escribir\n",
    "        for thread in threads:\n",
    "            thread.join()"
   ]
  },
  {
   "cell_type": "markdown",
   "metadata": {},
   "source": [
    "Otra variante del mismo ejemplo. Podemos también crear el Lock como variable de clase, de esta forma el lock sigue siendo independiente al thread que lo usará."
   ]
  },
  {
   "cell_type": "code",
   "execution_count": 2,
   "metadata": {
    "collapsed": true
   },
   "outputs": [],
   "source": [
    "import threading\n",
    "import time\n",
    "from random import random\n",
    "\n",
    "\n",
    "class MiThread(threading.Thread):\n",
    "    # Esta clase modela un thread. Dentro creamos un objeto para bloqueo dentro de la clase\n",
    "    # El Lock es una variable independiente de cada thread\n",
    "    lock = threading.Lock()\n",
    "    \n",
    "    def __init__(self, i, archivo):\n",
    "        super().__init__()\n",
    "        self.i = i\n",
    "        self.archivo = archivo\n",
    "    \n",
    "    def run(self):\n",
    "        # El método run() maneja que debe hacer el thread durante la ejecución \n",
    "        # cada vez que se llama al método start()\n",
    "        \n",
    "        # bloquea la ejecución de los demas threads al intentar escribir en el archivo\n",
    "        MiThread.lock.acquire() \n",
    "        try:\n",
    "            self.archivo.write('Esta linea fue escrita por el thread # {}\\n'.format(self.i))\n",
    "        finally:\n",
    "            # devuelve el control del recurso a los threads en espera\n",
    "            time.sleep(random())\n",
    "            MiThread.lock.release()\n",
    "            \n",
    "                \n",
    "if __name__ == '__main__':\n",
    "    num_threads = 7\n",
    "    threads = []\n",
    "    \n",
    "    # Creamos un archivo para escribir una salida. Luego creamos los threads \n",
    "    # que escribirán dentro del archivo\n",
    "    \n",
    "    with open('salida.txt', 'w') as archivo:\n",
    "        for i in range(num_threads):\n",
    "            my_thread = MiThread(i, archivo) # se crea el thread pasando sus parámetros\n",
    "            my_thread.start() # Se inicializa el thread. Se ejecuta lo que tiene el método run()\n",
    "            threads.append(my_thread)\n",
    "        \n",
    "        # Evita que el archivo sea cerrado antes que los threads terminen de escribir\n",
    "        for thread in threads:\n",
    "            thread.join()"
   ]
  },
  {
   "cell_type": "markdown",
   "metadata": {},
   "source": [
    "Afortunadamente en Python los bloqueos pueden también funcionar dentro de un <i>context manager</i> a través de la sentencia <b>with</b>. En este caso es el mismo <i>with</i> el que se encarga de llamar los métodos <i>acquire()</i> y <i>release()</i>. De esta forma el bloqueo usado en el método <i>run</i> del ejemplo anterior quedaría implementado como se muestra a continuación."
   ]
  },
  {
   "cell_type": "code",
   "execution_count": 3,
   "metadata": {
    "collapsed": true
   },
   "outputs": [],
   "source": [
    "def run(self):\n",
    "    with MiThread.lock:\n",
    "        self.archivo.write('Esta linea fue escrita por el thread # {}\\n'.format(self.i))"
   ]
  },
  {
   "cell_type": "markdown",
   "metadata": {},
   "source": [
    "Un problema común en programación concurrente es el patrón <b>Productor-Consumidor</b>. Este se origina cuando dos o más threads, conocidos como <b>productores</b> y <b>consumidores</b>, acceden a un mismo espacio almacenamiento o <b>buffer</b>. Bajo este esquema, los productores ponen ítems en el <i>buffer</i> y los consumidores sacan elementos del <i>buffer</i>. Este modelo permite la comunicación entre distintos threads. Por lo general el <i>buffer</i> compartido en este modelo se implementa mediante una <b>cola sincronizada</b> o <b>cola segura</b>. \n",
    "\n",
    "Por ejemplo, supongamos que podemos separar un programa que realiza el procesamiento de un archivo de texto en dos procesos independientes implementados mediante threads. Donde, el primer thread se encargará de la lectura del archivo y procesamiento de las líneas; y el segundo thread de almacenar en otro archivo el resultado de la suma de ambos valores leídos. Comunicaremos ambos threads mediante una cola sincronizada implementada como se muestra a continuación."
   ]
  },
  {
   "cell_type": "code",
   "execution_count": 4,
   "metadata": {
    "collapsed": true
   },
   "outputs": [],
   "source": [
    "import collections\n",
    "\n",
    "class MiDeque(collections.deque):\n",
    "    # Para crear la cola heredamos un deque desde el modulo collections \n",
    "    # y agregaremos los mecanismos de bloqueo para asegurar la sincronización \n",
    "    # entre los threads.\n",
    "\n",
    "    def __init__(self):\n",
    "        super().__init__()\n",
    "        self.lock = threading.Lock() # agregamos el seguro a la cola\n",
    "\n",
    "    def agregar(self, elemento):\n",
    "        # Como mencionamos anteriormente, los bloqueos pueden ser usados\n",
    "        # dentro de un context-manager\n",
    "\n",
    "        with self.lock:\n",
    "            self.append(elemento)\n",
    "            print('[AGREAGAR] cola tiene {} elementos'.format(len(self)))\n",
    "\n",
    "    def obtener(self):\n",
    "        with self.lock:\n",
    "            print('[SACAR] la cola tiene {} elementos'.format(len(self)))\n",
    "            return self.popleft()"
   ]
  },
  {
   "cell_type": "markdown",
   "metadata": {},
   "source": [
    "Veamos ahora el resto de la implementación del productor y el consumidor. Como recomendación, probar los ejemplos directamente en un terminal o desde un IDE como PyCharm."
   ]
  },
  {
   "cell_type": "code",
   "execution_count": null,
   "metadata": {
    "collapsed": true
   },
   "outputs": [],
   "source": [
    "import threading\n",
    "import time\n",
    "\n",
    "\n",
    "class Productor(threading.Thread):\n",
    "    \n",
    "    def __init__(self, cola):\n",
    "        super().__init__()\n",
    "        self.cola = cola\n",
    "\n",
    "    def run(self):\n",
    "        # Abrimos un contexto para manejar el archivo de entrada y procesamos cada línea\n",
    "\n",
    "        with open('lista_numeros.txt') as archivo:           \n",
    "            for linea in archivo:\n",
    "                valores = tuple(map(int, linea.strip().split(',')))\n",
    "                self.cola.agregar(valores)\n",
    "\n",
    "\n",
    "class Consumidor(threading.Thread):\n",
    "    \n",
    "    def __init__(self, cola):\n",
    "        super().__init__()\n",
    "        self.cola = cola\n",
    "\n",
    "    def run(self):\n",
    "        with open('numeros_procesados.txt', 'w') as archivo:\n",
    "            while len(self.cola) > 0:\n",
    "                numeros = self.cola.obtener()\n",
    "                archivo.write('{}\\n'.format(sum(numeros)))\n",
    "                # ayuda a simular que el consumidor es más lento que el productor\n",
    "                time.sleep(0.001) \n",
    "            \n",
    "\n",
    "\n",
    "if __name__ == '__main__':\n",
    "\n",
    "    cola = MiDeque()\n",
    "\n",
    "    p = Productor(cola)\n",
    "    p.start()\n",
    "    \n",
    "    c = Consumidor(cola)\n",
    "    c.start()"
   ]
  },
  {
   "cell_type": "markdown",
   "metadata": {},
   "source": [
    "<h2>Queue</h2>\n",
    "\n",
    "Afortunadamente en Python existe una libería optimizada para el manejo de colas seguras en modelos <b>productor-consumidor</b>. La librería <b>queue</b> tiene implementada una cola que maneja múltiples concurrencias de forma segura. Es distinta a la cola implementada en <b>collections</b> usada para estructura de datos, la que no tiene ningún tipo de bloqueo para sincronización.\n",
    "\n",
    "Los métodos principales de una cola de la librería Queue son:\n",
    "\n",
    "- <b>put()</b>: agrega un ítem a la cola (push)\n",
    "- <b>get()</b>: remueve y retorna un ítem desde la cola (pop)\n",
    "- <b>task_done()</b>: require ser llamado cada vez que in ítem ha sido procesado\n",
    "- <b>join()</b>: bloquea la cola hasta que todos los ítems han sido procesados\n",
    "\n",
    "Volvamos al ejemplo anterior del procesamiento de un archivo de texto mediante dos threads independientes. El modelamiento quedaría de la siguiente manera."
   ]
  },
  {
   "cell_type": "code",
   "execution_count": 5,
   "metadata": {},
   "outputs": [
    {
     "name": "stdout",
     "output_type": "stream",
     "text": [
      "[Productor] la cola tiene 1 elementos\n",
      "[Consumidor] la cola ahora tiene 0 elementos\n",
      "[Productor] la cola tiene 1 elementos\n",
      "[Productor] la cola tiene 2 elementos\n",
      "[Productor] la cola tiene 3 elementos\n",
      "[Consumidor] la cola ahora tiene 3 elementos\n",
      "[Consumidor] la cola ahora tiene 2 elementos\n",
      "[Consumidor] la cola ahora tiene 1 elementos\n",
      "[Consumidor] proceso finalizado\n"
     ]
    }
   ],
   "source": [
    "import threading\n",
    "import time\n",
    "import queue\n",
    "from random import randint\n",
    "\n",
    "\n",
    "class Productor(threading.Thread):\n",
    "    def __init__(self, cola):\n",
    "        super().__init__()\n",
    "        self.cola = cola\n",
    "\n",
    "    def run(self):\n",
    "        with open('lista_numeros.txt') as archivo:\n",
    "            for linea in archivo:\n",
    "                valores = tuple(map(int, linea.strip().split(',')))\n",
    "                self.cola.put(valores)\n",
    "                print('[Productor] la cola tiene {} elementos'.format(self.cola.qsize()))\n",
    "                \n",
    "                # ayuda a simular que los procesos son más pesados computacionalmente\n",
    "                time.sleep(0.1) \n",
    "                \n",
    "            # Detendra el consumidor una vez que termine de procesar el ultimo valor\n",
    "            self.cola.put('STOP')\n",
    "                \n",
    "class Consumidor(threading.Thread):\n",
    "    \n",
    "    def __init__(self, cola):\n",
    "        super().__init__()\n",
    "        self.cola = cola\n",
    "        \n",
    "    def run(self):\n",
    "        with open('numeros_procesados.txt', 'w') as archivo:\n",
    "            \n",
    "            while True:\n",
    "                # Se utiliza try/except para revisar que haya elementos en la cola\n",
    "                # Debemos chequear la condicion de termino de consumidor ('STOP'). \n",
    "                # De caso contrario el consumidor estaría ejecutándose infinitamente.\n",
    "\n",
    "                try:\n",
    "                    # si no hay más elementos en la cola levanta una \n",
    "                    # excepcion del tipo Empty desde queue.\n",
    "                    numeros = self.cola.get(False) \n",
    "\n",
    "                except queue.Empty:\n",
    "                    continue\n",
    "\n",
    "                else:\n",
    "                    if numeros == 'STOP':\n",
    "                        print('[Consumidor] proceso finalizado')\n",
    "                        break\n",
    "                    \n",
    "                    archivo.write('{}\\n'.format(sum(numeros)))\n",
    "                    self.cola.task_done()\n",
    "\n",
    "                    # qsize() retorna el tamaño de la cola\n",
    "                    print('[Consumidor] la cola ahora tiene {} elementos'.format(self.cola.qsize())) \n",
    "\n",
    "                    # Simula un proceso más pesado.                    \n",
    "                    time.sleep(randint(1, 5)) \n",
    "\n",
    "\n",
    "\n",
    "if __name__ == '__main__':\n",
    "\n",
    "    q = queue.Queue() # se crea una cola sincronizada desde la librería queue\n",
    "\n",
    "    p = Productor(q) # se crea el productor que recibe como argumento una cola Q\n",
    "    p.start()\n",
    "\n",
    "    # se crea un thread con el consumidor. También recibe la cola.\n",
    "    # Para implementarlo mediante un enfoque funcional:\n",
    "    # threading.Thread(target=consumidor, args=(q,)) \n",
    "    c = Consumidor(q)\n",
    "    c.start()"
   ]
  }
 ],
 "metadata": {
  "kernelspec": {
   "display_name": "Python 3",
   "language": "python",
   "name": "python3"
  },
  "language_info": {
   "codemirror_mode": {
    "name": "ipython",
    "version": 3
   },
   "file_extension": ".py",
   "mimetype": "text/x-python",
   "name": "python",
   "nbconvert_exporter": "python",
   "pygments_lexer": "ipython3",
   "version": "3.6.5"
  }
 },
 "nbformat": 4,
 "nbformat_minor": 1
}
